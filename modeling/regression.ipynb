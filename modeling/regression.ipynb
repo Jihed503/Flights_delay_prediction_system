{
 "cells": [
  {
   "cell_type": "markdown",
   "metadata": {
    "id": "AW1hbdZCdrPE"
   },
   "source": [
    "# Regression Engine to predict Arrival Delay"
   ]
  },
  {
   "cell_type": "markdown",
   "metadata": {
    "id": "MyEK3s8FHjGS"
   },
   "source": [
    "In this notebook we are going to buils a model to predict the delay time of flights."
   ]
  },
  {
   "cell_type": "markdown",
   "metadata": {
    "id": "xJQFN7T-IeQV"
   },
   "source": [
    "Table of contents:\n",
    "\n",
    "1. [Import relevant libraries](#Libraries)\n",
    "2. [Load files](#Load)\n",
    "3. [Preview files](#Preview)\n",
    "5. [Data exploration and transformation](#Exploration)\n",
    "6. [Target distribution](#Target)\n",
    "7. [Outliers](#Outliers)\n",
    "8. [Correlations](#Correlations)\n",
    "9. [Model training](#Model)\n",
    "10. [Test set predictions](#Predictions)\n",
    "11. [Creating a submission file](#Submission)\n",
    "12. [Tips to improve model performance](#Tips)"
   ]
  },
  {
   "cell_type": "markdown",
   "metadata": {
    "id": "CuMqeYYSI3QO"
   },
   "source": [
    "<a name = \"Libraries\"></a>\n",
    "## 1. Import relevant libraries"
   ]
  },
  {
   "cell_type": "code",
   "execution_count": 76,
   "metadata": {
    "id": "inud-GjTRUv1"
   },
   "outputs": [],
   "source": [
    "# Pre-requisites\n",
    "import pandas as pd\n",
    "import numpy as np\n",
    "import matplotlib\n",
    "import matplotlib.pyplot as plt\n",
    "import seaborn as sns\n",
    "import missingno as msno\n",
    "\n",
    "# Store the regression models to save time\n",
    "import joblib\n",
    "\n",
    "# Preprocessing\n",
    "from sklearn.preprocessing import LabelEncoder\n",
    "from sklearn.model_selection import train_test_split\n",
    "\n",
    "# Classifiers from scikit-learn\n",
    "from sklearn.linear_model import LinearRegression\n",
    "from sklearn.tree import DecisionTreeRegressor\n",
    "from sklearn.ensemble import RandomForestRegressor\n",
    "from sklearn.ensemble import ExtraTreesRegressor\n",
    "from sklearn.ensemble import GradientBoostingRegressor\n",
    "\n",
    "# Performance metrics\n",
    "from sklearn.metrics import mean_squared_error\n",
    "from sklearn.metrics import mean_absolute_error\n",
    "from sklearn.metrics import r2_score\n",
    "\n",
    "pd.set_option('display.max_columns', None)"
   ]
  },
  {
   "cell_type": "markdown",
   "metadata": {
    "id": "qiX5-kuTI7cP"
   },
   "source": [
    "<a name = \"Load\"></a>\n",
    "## 2. Load files"
   ]
  },
  {
   "cell_type": "code",
   "execution_count": 77,
   "metadata": {
    "id": "P--VObRkRaZm"
   },
   "outputs": [],
   "source": [
    "file_path = 'processed.parquet'\n",
    "\n",
    "# Read the file using pandas\n",
    "df = pd.read_parquet(file_path)"
   ]
  },
  {
   "cell_type": "markdown",
   "metadata": {
    "id": "3V2Cjv00JAGn"
   },
   "source": [
    "<a name = \"Preview\"></a>\n",
    "## 3. Preview files"
   ]
  },
  {
   "cell_type": "code",
   "execution_count": 78,
   "metadata": {
    "colab": {
     "base_uri": "https://localhost:8080/",
     "height": 313
    },
    "id": "R0ybf-I8TaPp",
    "outputId": "72d5d034-8edc-41e8-ff8c-7632a1254622"
   },
   "outputs": [
    {
     "data": {
      "text/html": [
       "<div>\n",
       "<style scoped>\n",
       "    .dataframe tbody tr th:only-of-type {\n",
       "        vertical-align: middle;\n",
       "    }\n",
       "\n",
       "    .dataframe tbody tr th {\n",
       "        vertical-align: top;\n",
       "    }\n",
       "\n",
       "    .dataframe thead th {\n",
       "        text-align: right;\n",
       "    }\n",
       "</style>\n",
       "<table border=\"1\" class=\"dataframe\">\n",
       "  <thead>\n",
       "    <tr style=\"text-align: right;\">\n",
       "      <th></th>\n",
       "      <th>aircraft</th>\n",
       "      <th>airport</th>\n",
       "      <th>rounded_hour</th>\n",
       "      <th>date</th>\n",
       "      <th>from</th>\n",
       "      <th>to</th>\n",
       "      <th>flight</th>\n",
       "      <th>flight_time</th>\n",
       "      <th>scheduled_time_departure</th>\n",
       "      <th>actual_time_departure</th>\n",
       "      <th>scheduled_time_arrival</th>\n",
       "      <th>status</th>\n",
       "      <th>actual_time_arrival</th>\n",
       "      <th>from_city</th>\n",
       "      <th>to_city</th>\n",
       "      <th>delay_time</th>\n",
       "      <th>temperature</th>\n",
       "      <th>dew_point</th>\n",
       "      <th>humidity</th>\n",
       "      <th>wind_speed</th>\n",
       "      <th>wind_gust</th>\n",
       "      <th>pressure</th>\n",
       "      <th>precip</th>\n",
       "      <th>my_flightradar24_rating</th>\n",
       "      <th>arrival_delay_index</th>\n",
       "      <th>departure_delay_index</th>\n",
       "      <th>msn</th>\n",
       "      <th>type</th>\n",
       "      <th>airline</th>\n",
       "      <th>age</th>\n",
       "      <th>departure_delay</th>\n",
       "      <th>departure_delay_15</th>\n",
       "      <th>year</th>\n",
       "      <th>month</th>\n",
       "      <th>day</th>\n",
       "      <th>hour</th>\n",
       "      <th>dayofweek</th>\n",
       "      <th>quarter</th>\n",
       "      <th>is_year_start</th>\n",
       "      <th>is_year_end</th>\n",
       "    </tr>\n",
       "  </thead>\n",
       "  <tbody>\n",
       "    <tr>\n",
       "      <th>0</th>\n",
       "      <td>67</td>\n",
       "      <td>crl</td>\n",
       "      <td>2023-08-18 22:00:00</td>\n",
       "      <td>2023-08-18</td>\n",
       "      <td>157</td>\n",
       "      <td>7</td>\n",
       "      <td>329</td>\n",
       "      <td>1.016667</td>\n",
       "      <td>2023-08-18 19:30:00</td>\n",
       "      <td>2023-08-18 19:59:00</td>\n",
       "      <td>2023-08-18 21:50:00</td>\n",
       "      <td>0</td>\n",
       "      <td>2023-08-18 22:00:00</td>\n",
       "      <td>142</td>\n",
       "      <td>6</td>\n",
       "      <td>10.0</td>\n",
       "      <td>73</td>\n",
       "      <td>68</td>\n",
       "      <td>83</td>\n",
       "      <td>6</td>\n",
       "      <td>0</td>\n",
       "      <td>29.260000</td>\n",
       "      <td>0.0</td>\n",
       "      <td>63</td>\n",
       "      <td>0.4</td>\n",
       "      <td>1.2</td>\n",
       "      <td>96</td>\n",
       "      <td>10</td>\n",
       "      <td>58</td>\n",
       "      <td>16.0</td>\n",
       "      <td>29.0</td>\n",
       "      <td>1</td>\n",
       "      <td>2023</td>\n",
       "      <td>8</td>\n",
       "      <td>18</td>\n",
       "      <td>21</td>\n",
       "      <td>4</td>\n",
       "      <td>3</td>\n",
       "      <td>0</td>\n",
       "      <td>0</td>\n",
       "    </tr>\n",
       "    <tr>\n",
       "      <th>1</th>\n",
       "      <td>37</td>\n",
       "      <td>bah</td>\n",
       "      <td>2023-08-21 22:00:00</td>\n",
       "      <td>2023-08-21</td>\n",
       "      <td>80</td>\n",
       "      <td>3</td>\n",
       "      <td>257</td>\n",
       "      <td>0.900000</td>\n",
       "      <td>2023-08-20 23:04:00</td>\n",
       "      <td>2023-08-21 22:10:00</td>\n",
       "      <td>2023-08-21 22:04:00</td>\n",
       "      <td>0</td>\n",
       "      <td>2023-08-21 22:04:00</td>\n",
       "      <td>72</td>\n",
       "      <td>3</td>\n",
       "      <td>0.0</td>\n",
       "      <td>95</td>\n",
       "      <td>84</td>\n",
       "      <td>71</td>\n",
       "      <td>9</td>\n",
       "      <td>0</td>\n",
       "      <td>29.580000</td>\n",
       "      <td>0.0</td>\n",
       "      <td>78</td>\n",
       "      <td>0.4</td>\n",
       "      <td>0.8</td>\n",
       "      <td>71</td>\n",
       "      <td>15</td>\n",
       "      <td>25</td>\n",
       "      <td>24.0</td>\n",
       "      <td>1386.0</td>\n",
       "      <td>1</td>\n",
       "      <td>2023</td>\n",
       "      <td>8</td>\n",
       "      <td>21</td>\n",
       "      <td>22</td>\n",
       "      <td>0</td>\n",
       "      <td>3</td>\n",
       "      <td>0</td>\n",
       "      <td>0</td>\n",
       "    </tr>\n",
       "    <tr>\n",
       "      <th>2</th>\n",
       "      <td>113</td>\n",
       "      <td>vie</td>\n",
       "      <td>2023-10-08 21:00:00</td>\n",
       "      <td>2023-10-08</td>\n",
       "      <td>107</td>\n",
       "      <td>22</td>\n",
       "      <td>635</td>\n",
       "      <td>1.316667</td>\n",
       "      <td>2023-10-08 19:00:00</td>\n",
       "      <td>2023-10-08 19:07:00</td>\n",
       "      <td>2023-10-08 20:35:00</td>\n",
       "      <td>0</td>\n",
       "      <td>2023-10-08 20:26:00</td>\n",
       "      <td>88</td>\n",
       "      <td>20</td>\n",
       "      <td>-9.0</td>\n",
       "      <td>54</td>\n",
       "      <td>45</td>\n",
       "      <td>72</td>\n",
       "      <td>7</td>\n",
       "      <td>0</td>\n",
       "      <td>29.700001</td>\n",
       "      <td>0.0</td>\n",
       "      <td>85</td>\n",
       "      <td>0.4</td>\n",
       "      <td>0.7</td>\n",
       "      <td>155</td>\n",
       "      <td>21</td>\n",
       "      <td>66</td>\n",
       "      <td>7.0</td>\n",
       "      <td>7.0</td>\n",
       "      <td>0</td>\n",
       "      <td>2023</td>\n",
       "      <td>10</td>\n",
       "      <td>8</td>\n",
       "      <td>20</td>\n",
       "      <td>6</td>\n",
       "      <td>4</td>\n",
       "      <td>0</td>\n",
       "      <td>0</td>\n",
       "    </tr>\n",
       "    <tr>\n",
       "      <th>3</th>\n",
       "      <td>15</td>\n",
       "      <td>bru</td>\n",
       "      <td>2024-01-25 12:00:00</td>\n",
       "      <td>2024-01-25</td>\n",
       "      <td>71</td>\n",
       "      <td>5</td>\n",
       "      <td>789</td>\n",
       "      <td>8.233333</td>\n",
       "      <td>2024-01-25 19:50:00</td>\n",
       "      <td>2024-01-25 20:28:00</td>\n",
       "      <td>2024-01-25 11:55:00</td>\n",
       "      <td>0</td>\n",
       "      <td>2024-01-25 11:42:00</td>\n",
       "      <td>69</td>\n",
       "      <td>6</td>\n",
       "      <td>-13.0</td>\n",
       "      <td>45</td>\n",
       "      <td>45</td>\n",
       "      <td>100</td>\n",
       "      <td>7</td>\n",
       "      <td>0</td>\n",
       "      <td>30.280001</td>\n",
       "      <td>0.0</td>\n",
       "      <td>81</td>\n",
       "      <td>0.4</td>\n",
       "      <td>0.8</td>\n",
       "      <td>65</td>\n",
       "      <td>12</td>\n",
       "      <td>62</td>\n",
       "      <td>23.0</td>\n",
       "      <td>38.0</td>\n",
       "      <td>1</td>\n",
       "      <td>2024</td>\n",
       "      <td>1</td>\n",
       "      <td>25</td>\n",
       "      <td>11</td>\n",
       "      <td>3</td>\n",
       "      <td>1</td>\n",
       "      <td>0</td>\n",
       "      <td>0</td>\n",
       "    </tr>\n",
       "    <tr>\n",
       "      <th>4</th>\n",
       "      <td>159</td>\n",
       "      <td>msq</td>\n",
       "      <td>2024-03-28 19:00:00</td>\n",
       "      <td>2024-03-28</td>\n",
       "      <td>138</td>\n",
       "      <td>17</td>\n",
       "      <td>206</td>\n",
       "      <td>1.066667</td>\n",
       "      <td>2024-03-28 17:10:00</td>\n",
       "      <td>2024-03-28 17:22:00</td>\n",
       "      <td>2024-03-28 18:45:00</td>\n",
       "      <td>0</td>\n",
       "      <td>2024-03-28 18:25:00</td>\n",
       "      <td>221</td>\n",
       "      <td>15</td>\n",
       "      <td>-20.0</td>\n",
       "      <td>50</td>\n",
       "      <td>37</td>\n",
       "      <td>62</td>\n",
       "      <td>13</td>\n",
       "      <td>20</td>\n",
       "      <td>28.820000</td>\n",
       "      <td>0.0</td>\n",
       "      <td>71</td>\n",
       "      <td>2.5</td>\n",
       "      <td>2.5</td>\n",
       "      <td>135</td>\n",
       "      <td>10</td>\n",
       "      <td>55</td>\n",
       "      <td>5.0</td>\n",
       "      <td>12.0</td>\n",
       "      <td>0</td>\n",
       "      <td>2024</td>\n",
       "      <td>3</td>\n",
       "      <td>28</td>\n",
       "      <td>18</td>\n",
       "      <td>3</td>\n",
       "      <td>1</td>\n",
       "      <td>0</td>\n",
       "      <td>0</td>\n",
       "    </tr>\n",
       "  </tbody>\n",
       "</table>\n",
       "</div>"
      ],
      "text/plain": [
       "   aircraft airport        rounded_hour        date  from  to  flight  \\\n",
       "0        67     crl 2023-08-18 22:00:00  2023-08-18   157   7     329   \n",
       "1        37     bah 2023-08-21 22:00:00  2023-08-21    80   3     257   \n",
       "2       113     vie 2023-10-08 21:00:00  2023-10-08   107  22     635   \n",
       "3        15     bru 2024-01-25 12:00:00  2024-01-25    71   5     789   \n",
       "4       159     msq 2024-03-28 19:00:00  2024-03-28   138  17     206   \n",
       "\n",
       "   flight_time scheduled_time_departure actual_time_departure  \\\n",
       "0     1.016667      2023-08-18 19:30:00   2023-08-18 19:59:00   \n",
       "1     0.900000      2023-08-20 23:04:00   2023-08-21 22:10:00   \n",
       "2     1.316667      2023-10-08 19:00:00   2023-10-08 19:07:00   \n",
       "3     8.233333      2024-01-25 19:50:00   2024-01-25 20:28:00   \n",
       "4     1.066667      2024-03-28 17:10:00   2024-03-28 17:22:00   \n",
       "\n",
       "  scheduled_time_arrival  status actual_time_arrival  from_city  to_city  \\\n",
       "0    2023-08-18 21:50:00       0 2023-08-18 22:00:00        142        6   \n",
       "1    2023-08-21 22:04:00       0 2023-08-21 22:04:00         72        3   \n",
       "2    2023-10-08 20:35:00       0 2023-10-08 20:26:00         88       20   \n",
       "3    2024-01-25 11:55:00       0 2024-01-25 11:42:00         69        6   \n",
       "4    2024-03-28 18:45:00       0 2024-03-28 18:25:00        221       15   \n",
       "\n",
       "   delay_time  temperature  dew_point  humidity  wind_speed  wind_gust  \\\n",
       "0        10.0           73         68        83           6          0   \n",
       "1         0.0           95         84        71           9          0   \n",
       "2        -9.0           54         45        72           7          0   \n",
       "3       -13.0           45         45       100           7          0   \n",
       "4       -20.0           50         37        62          13         20   \n",
       "\n",
       "    pressure  precip  my_flightradar24_rating  arrival_delay_index  \\\n",
       "0  29.260000     0.0                       63                  0.4   \n",
       "1  29.580000     0.0                       78                  0.4   \n",
       "2  29.700001     0.0                       85                  0.4   \n",
       "3  30.280001     0.0                       81                  0.4   \n",
       "4  28.820000     0.0                       71                  2.5   \n",
       "\n",
       "   departure_delay_index  msn  type  airline   age  departure_delay  \\\n",
       "0                    1.2   96    10       58  16.0             29.0   \n",
       "1                    0.8   71    15       25  24.0           1386.0   \n",
       "2                    0.7  155    21       66   7.0              7.0   \n",
       "3                    0.8   65    12       62  23.0             38.0   \n",
       "4                    2.5  135    10       55   5.0             12.0   \n",
       "\n",
       "   departure_delay_15  year  month  day  hour  dayofweek  quarter  \\\n",
       "0                   1  2023      8   18    21          4        3   \n",
       "1                   1  2023      8   21    22          0        3   \n",
       "2                   0  2023     10    8    20          6        4   \n",
       "3                   1  2024      1   25    11          3        1   \n",
       "4                   0  2024      3   28    18          3        1   \n",
       "\n",
       "   is_year_start  is_year_end  \n",
       "0              0            0  \n",
       "1              0            0  \n",
       "2              0            0  \n",
       "3              0            0  \n",
       "4              0            0  "
      ]
     },
     "execution_count": 78,
     "metadata": {},
     "output_type": "execute_result"
    }
   ],
   "source": [
    "df.head()"
   ]
  },
  {
   "cell_type": "markdown",
   "metadata": {
    "id": "nGYT4zKBJBJi"
   },
   "source": [
    "<a name = \"Exploration\"></a>\n",
    "## 5. Data exploration and transformation"
   ]
  },
  {
   "cell_type": "code",
   "execution_count": 79,
   "metadata": {
    "colab": {
     "base_uri": "https://localhost:8080/",
     "height": 648
    },
    "id": "NtLOWjUyJbF7",
    "outputId": "5857ad24-0256-4359-81a5-4a3f9bd8d1a4"
   },
   "outputs": [
    {
     "name": "stdout",
     "output_type": "stream",
     "text": [
      "Axes(0.125,0.125;0.698618x0.755)\n"
     ]
    },
    {
     "data": {
      "image/png": "[encoded data removed]",
      "text/plain": [
       "<Figure size 1800x720 with 2 Axes>"
      ]
     },
     "metadata": {
      "needs_background": "light"
     },
     "output_type": "display_data"
    }
   ],
   "source": [
    "print(msno.matrix(df))"
   ]
  },
  {
   "cell_type": "code",
   "execution_count": 80,
   "metadata": {
    "id": "J8ZZKeiwJaWc"
   },
   "outputs": [],
   "source": [
    "df.dropna(inplace=True)"
   ]
  },
  {
   "cell_type": "code",
   "execution_count": 81,
   "metadata": {
    "colab": {
     "base_uri": "https://localhost:8080/"
    },
    "id": "C-BM1RrNJewE",
    "outputId": "596b985d-3c1d-42a9-cac2-2ee71f1d16cf"
   },
   "outputs": [
    {
     "data": {
      "text/plain": [
       "False"
      ]
     },
     "execution_count": 81,
     "metadata": {},
     "output_type": "execute_result"
    }
   ],
   "source": [
    "# Check for any missing values\n",
    "df.isnull().sum().any()"
   ]
  },
  {
   "cell_type": "code",
   "execution_count": 82,
   "metadata": {
    "colab": {
     "base_uri": "https://localhost:8080/"
    },
    "id": "LmS6Y4ExRaWl",
    "outputId": "91819025-a1c4-4821-c964-717d0ba09fc3"
   },
   "outputs": [],
   "source": [
    "df = df[df['status']==1]\n",
    "\n",
    "df[\"arrival_delay\"] = df[\"actual_time_arrival\"] - df[\"scheduled_time_arrival\"]\n",
    "# Convert the arrival delay to minutes\n",
    "df['arrival_delay'] = df['arrival_delay'].dt.total_seconds() / 60\n",
    "\n"
   ]
  },
  {
   "cell_type": "code",
   "execution_count": 83,
   "metadata": {},
   "outputs": [],
   "source": [
    "cols = ['flight', 'aircraft', 'from', 'to', \n",
    "       'flight_time', 'from_city',\n",
    "       'to_city', 'temperature', 'dew_point', 'humidity',\n",
    "       'wind_speed', 'wind_gust', 'pressure', 'precip',\n",
    "       'my_flightradar24_rating', 'arrival_delay_index',\n",
    "       'departure_delay_index', 'msn', 'type', 'airline', 'age',\n",
    "       'year', 'month', 'day', 'hour',\n",
    "       'dayofweek', 'quarter', 'is_year_start', 'is_year_end', 'arrival_delay']\n",
    "\n",
    "df = df[cols]"
   ]
  },
  {
   "cell_type": "code",
   "execution_count": 84,
   "metadata": {
    "colab": {
     "base_uri": "https://localhost:8080/",
     "height": 226
    },
    "id": "mIfgwp5ySAwe",
    "outputId": "f172fddb-8a5b-4b87-99b6-b7db529a4600"
   },
   "outputs": [
    {
     "data": {
      "text/html": [
       "<div>\n",
       "<style scoped>\n",
       "    .dataframe tbody tr th:only-of-type {\n",
       "        vertical-align: middle;\n",
       "    }\n",
       "\n",
       "    .dataframe tbody tr th {\n",
       "        vertical-align: top;\n",
       "    }\n",
       "\n",
       "    .dataframe thead th {\n",
       "        text-align: right;\n",
       "    }\n",
       "</style>\n",
       "<table border=\"1\" class=\"dataframe\">\n",
       "  <thead>\n",
       "    <tr style=\"text-align: right;\">\n",
       "      <th></th>\n",
       "      <th>flight</th>\n",
       "      <th>aircraft</th>\n",
       "      <th>from</th>\n",
       "      <th>to</th>\n",
       "      <th>flight_time</th>\n",
       "      <th>from_city</th>\n",
       "      <th>to_city</th>\n",
       "      <th>temperature</th>\n",
       "      <th>dew_point</th>\n",
       "      <th>humidity</th>\n",
       "      <th>wind_speed</th>\n",
       "      <th>wind_gust</th>\n",
       "      <th>pressure</th>\n",
       "      <th>precip</th>\n",
       "      <th>my_flightradar24_rating</th>\n",
       "      <th>arrival_delay_index</th>\n",
       "      <th>departure_delay_index</th>\n",
       "      <th>msn</th>\n",
       "      <th>type</th>\n",
       "      <th>airline</th>\n",
       "      <th>age</th>\n",
       "      <th>year</th>\n",
       "      <th>month</th>\n",
       "      <th>day</th>\n",
       "      <th>hour</th>\n",
       "      <th>dayofweek</th>\n",
       "      <th>quarter</th>\n",
       "      <th>is_year_start</th>\n",
       "      <th>is_year_end</th>\n",
       "      <th>arrival_delay</th>\n",
       "    </tr>\n",
       "  </thead>\n",
       "  <tbody>\n",
       "    <tr>\n",
       "      <th>6</th>\n",
       "      <td>447</td>\n",
       "      <td>68</td>\n",
       "      <td>54</td>\n",
       "      <td>7</td>\n",
       "      <td>1.316667</td>\n",
       "      <td>51</td>\n",
       "      <td>6</td>\n",
       "      <td>77</td>\n",
       "      <td>61</td>\n",
       "      <td>57</td>\n",
       "      <td>7</td>\n",
       "      <td>0</td>\n",
       "      <td>29.290001</td>\n",
       "      <td>0.0</td>\n",
       "      <td>63</td>\n",
       "      <td>0.4</td>\n",
       "      <td>1.2</td>\n",
       "      <td>97</td>\n",
       "      <td>10</td>\n",
       "      <td>58</td>\n",
       "      <td>16.000000</td>\n",
       "      <td>2023</td>\n",
       "      <td>9</td>\n",
       "      <td>11</td>\n",
       "      <td>15</td>\n",
       "      <td>0</td>\n",
       "      <td>3</td>\n",
       "      <td>0</td>\n",
       "      <td>0</td>\n",
       "      <td>16.0</td>\n",
       "    </tr>\n",
       "    <tr>\n",
       "      <th>12</th>\n",
       "      <td>398</td>\n",
       "      <td>67</td>\n",
       "      <td>137</td>\n",
       "      <td>7</td>\n",
       "      <td>1.283333</td>\n",
       "      <td>226</td>\n",
       "      <td>6</td>\n",
       "      <td>70</td>\n",
       "      <td>55</td>\n",
       "      <td>60</td>\n",
       "      <td>5</td>\n",
       "      <td>0</td>\n",
       "      <td>29.600000</td>\n",
       "      <td>0.0</td>\n",
       "      <td>63</td>\n",
       "      <td>0.4</td>\n",
       "      <td>1.2</td>\n",
       "      <td>96</td>\n",
       "      <td>10</td>\n",
       "      <td>58</td>\n",
       "      <td>16.000000</td>\n",
       "      <td>2023</td>\n",
       "      <td>9</td>\n",
       "      <td>4</td>\n",
       "      <td>10</td>\n",
       "      <td>0</td>\n",
       "      <td>3</td>\n",
       "      <td>0</td>\n",
       "      <td>0</td>\n",
       "      <td>193.0</td>\n",
       "    </tr>\n",
       "    <tr>\n",
       "      <th>13</th>\n",
       "      <td>327</td>\n",
       "      <td>8</td>\n",
       "      <td>94</td>\n",
       "      <td>5</td>\n",
       "      <td>1.733333</td>\n",
       "      <td>201</td>\n",
       "      <td>6</td>\n",
       "      <td>68</td>\n",
       "      <td>57</td>\n",
       "      <td>68</td>\n",
       "      <td>5</td>\n",
       "      <td>0</td>\n",
       "      <td>29.920000</td>\n",
       "      <td>0.0</td>\n",
       "      <td>81</td>\n",
       "      <td>0.4</td>\n",
       "      <td>0.8</td>\n",
       "      <td>151</td>\n",
       "      <td>10</td>\n",
       "      <td>58</td>\n",
       "      <td>8.000000</td>\n",
       "      <td>2023</td>\n",
       "      <td>9</td>\n",
       "      <td>26</td>\n",
       "      <td>17</td>\n",
       "      <td>1</td>\n",
       "      <td>3</td>\n",
       "      <td>0</td>\n",
       "      <td>0</td>\n",
       "      <td>101.0</td>\n",
       "    </tr>\n",
       "    <tr>\n",
       "      <th>17</th>\n",
       "      <td>45</td>\n",
       "      <td>169</td>\n",
       "      <td>123</td>\n",
       "      <td>17</td>\n",
       "      <td>3.633333</td>\n",
       "      <td>107</td>\n",
       "      <td>15</td>\n",
       "      <td>32</td>\n",
       "      <td>30</td>\n",
       "      <td>93</td>\n",
       "      <td>7</td>\n",
       "      <td>0</td>\n",
       "      <td>29.230000</td>\n",
       "      <td>0.0</td>\n",
       "      <td>71</td>\n",
       "      <td>2.5</td>\n",
       "      <td>2.5</td>\n",
       "      <td>186</td>\n",
       "      <td>8</td>\n",
       "      <td>64</td>\n",
       "      <td>14.334871</td>\n",
       "      <td>2024</td>\n",
       "      <td>1</td>\n",
       "      <td>26</td>\n",
       "      <td>21</td>\n",
       "      <td>4</td>\n",
       "      <td>1</td>\n",
       "      <td>0</td>\n",
       "      <td>0</td>\n",
       "      <td>55.0</td>\n",
       "    </tr>\n",
       "    <tr>\n",
       "      <th>27</th>\n",
       "      <td>282</td>\n",
       "      <td>67</td>\n",
       "      <td>147</td>\n",
       "      <td>7</td>\n",
       "      <td>2.433333</td>\n",
       "      <td>127</td>\n",
       "      <td>6</td>\n",
       "      <td>59</td>\n",
       "      <td>46</td>\n",
       "      <td>63</td>\n",
       "      <td>6</td>\n",
       "      <td>0</td>\n",
       "      <td>29.110001</td>\n",
       "      <td>0.0</td>\n",
       "      <td>63</td>\n",
       "      <td>0.4</td>\n",
       "      <td>1.2</td>\n",
       "      <td>96</td>\n",
       "      <td>10</td>\n",
       "      <td>58</td>\n",
       "      <td>16.000000</td>\n",
       "      <td>2023</td>\n",
       "      <td>8</td>\n",
       "      <td>30</td>\n",
       "      <td>17</td>\n",
       "      <td>2</td>\n",
       "      <td>3</td>\n",
       "      <td>0</td>\n",
       "      <td>0</td>\n",
       "      <td>40.0</td>\n",
       "    </tr>\n",
       "  </tbody>\n",
       "</table>\n",
       "</div>"
      ],
      "text/plain": [
       "    flight  aircraft  from  to  flight_time  from_city  to_city  temperature  \\\n",
       "6      447        68    54   7     1.316667         51        6           77   \n",
       "12     398        67   137   7     1.283333        226        6           70   \n",
       "13     327         8    94   5     1.733333        201        6           68   \n",
       "17      45       169   123  17     3.633333        107       15           32   \n",
       "27     282        67   147   7     2.433333        127        6           59   \n",
       "\n",
       "    dew_point  humidity  wind_speed  wind_gust   pressure  precip  \\\n",
       "6          61        57           7          0  29.290001     0.0   \n",
       "12         55        60           5          0  29.600000     0.0   \n",
       "13         57        68           5          0  29.920000     0.0   \n",
       "17         30        93           7          0  29.230000     0.0   \n",
       "27         46        63           6          0  29.110001     0.0   \n",
       "\n",
       "    my_flightradar24_rating  arrival_delay_index  departure_delay_index  msn  \\\n",
       "6                        63                  0.4                    1.2   97   \n",
       "12                       63                  0.4                    1.2   96   \n",
       "13                       81                  0.4                    0.8  151   \n",
       "17                       71                  2.5                    2.5  186   \n",
       "27                       63                  0.4                    1.2   96   \n",
       "\n",
       "    type  airline        age  year  month  day  hour  dayofweek  quarter  \\\n",
       "6     10       58  16.000000  2023      9   11    15          0        3   \n",
       "12    10       58  16.000000  2023      9    4    10          0        3   \n",
       "13    10       58   8.000000  2023      9   26    17          1        3   \n",
       "17     8       64  14.334871  2024      1   26    21          4        1   \n",
       "27    10       58  16.000000  2023      8   30    17          2        3   \n",
       "\n",
       "    is_year_start  is_year_end  arrival_delay  \n",
       "6               0            0           16.0  \n",
       "12              0            0          193.0  \n",
       "13              0            0          101.0  \n",
       "17              0            0           55.0  \n",
       "27              0            0           40.0  "
      ]
     },
     "execution_count": 84,
     "metadata": {},
     "output_type": "execute_result"
    }
   ],
   "source": [
    "# Show the first few rows of the DataFrame\n",
    "df.head()"
   ]
  },
  {
   "cell_type": "code",
   "execution_count": 85,
   "metadata": {
    "colab": {
     "base_uri": "https://localhost:8080/",
     "height": 320
    },
    "id": "zK2YNOdzJjMK",
    "outputId": "0a7095b3-b40a-45f8-ebd6-4f05a63910ce"
   },
   "outputs": [
    {
     "data": {
      "text/html": [
       "<div>\n",
       "<style scoped>\n",
       "    .dataframe tbody tr th:only-of-type {\n",
       "        vertical-align: middle;\n",
       "    }\n",
       "\n",
       "    .dataframe tbody tr th {\n",
       "        vertical-align: top;\n",
       "    }\n",
       "\n",
       "    .dataframe thead th {\n",
       "        text-align: right;\n",
       "    }\n",
       "</style>\n",
       "<table border=\"1\" class=\"dataframe\">\n",
       "  <thead>\n",
       "    <tr style=\"text-align: right;\">\n",
       "      <th></th>\n",
       "      <th>flight</th>\n",
       "      <th>aircraft</th>\n",
       "      <th>from</th>\n",
       "      <th>to</th>\n",
       "      <th>flight_time</th>\n",
       "      <th>from_city</th>\n",
       "      <th>to_city</th>\n",
       "      <th>temperature</th>\n",
       "      <th>dew_point</th>\n",
       "      <th>humidity</th>\n",
       "      <th>wind_speed</th>\n",
       "      <th>wind_gust</th>\n",
       "      <th>pressure</th>\n",
       "      <th>precip</th>\n",
       "      <th>my_flightradar24_rating</th>\n",
       "      <th>arrival_delay_index</th>\n",
       "      <th>departure_delay_index</th>\n",
       "      <th>msn</th>\n",
       "      <th>type</th>\n",
       "      <th>airline</th>\n",
       "      <th>age</th>\n",
       "      <th>year</th>\n",
       "      <th>month</th>\n",
       "      <th>day</th>\n",
       "      <th>hour</th>\n",
       "      <th>dayofweek</th>\n",
       "      <th>quarter</th>\n",
       "      <th>is_year_start</th>\n",
       "      <th>is_year_end</th>\n",
       "      <th>arrival_delay</th>\n",
       "    </tr>\n",
       "  </thead>\n",
       "  <tbody>\n",
       "    <tr>\n",
       "      <th>count</th>\n",
       "      <td>1235.000000</td>\n",
       "      <td>1235.000000</td>\n",
       "      <td>1235.000000</td>\n",
       "      <td>1235.000000</td>\n",
       "      <td>1235.000000</td>\n",
       "      <td>1235.000000</td>\n",
       "      <td>1235.000000</td>\n",
       "      <td>1235.000000</td>\n",
       "      <td>1235.000000</td>\n",
       "      <td>1235.000000</td>\n",
       "      <td>1235.000000</td>\n",
       "      <td>1235.000000</td>\n",
       "      <td>1235.000000</td>\n",
       "      <td>1235.0</td>\n",
       "      <td>1235.000000</td>\n",
       "      <td>1235.000000</td>\n",
       "      <td>1235.000000</td>\n",
       "      <td>1235.000000</td>\n",
       "      <td>1235.000000</td>\n",
       "      <td>1235.000000</td>\n",
       "      <td>1235.000000</td>\n",
       "      <td>1235.000000</td>\n",
       "      <td>1235.000000</td>\n",
       "      <td>1235.000000</td>\n",
       "      <td>1235.000000</td>\n",
       "      <td>1235.000000</td>\n",
       "      <td>1235.000000</td>\n",
       "      <td>1235.000000</td>\n",
       "      <td>1235.000000</td>\n",
       "      <td>1235.000000</td>\n",
       "    </tr>\n",
       "    <tr>\n",
       "      <th>mean</th>\n",
       "      <td>473.756275</td>\n",
       "      <td>93.719838</td>\n",
       "      <td>132.422672</td>\n",
       "      <td>9.821862</td>\n",
       "      <td>3.301646</td>\n",
       "      <td>127.400000</td>\n",
       "      <td>9.048583</td>\n",
       "      <td>57.166802</td>\n",
       "      <td>46.621053</td>\n",
       "      <td>72.429960</td>\n",
       "      <td>9.774899</td>\n",
       "      <td>1.680972</td>\n",
       "      <td>29.448463</td>\n",
       "      <td>0.0</td>\n",
       "      <td>74.207287</td>\n",
       "      <td>0.988988</td>\n",
       "      <td>1.414656</td>\n",
       "      <td>89.493117</td>\n",
       "      <td>10.326316</td>\n",
       "      <td>43.548988</td>\n",
       "      <td>13.053052</td>\n",
       "      <td>2023.269636</td>\n",
       "      <td>6.842915</td>\n",
       "      <td>15.317409</td>\n",
       "      <td>13.056680</td>\n",
       "      <td>3.021862</td>\n",
       "      <td>2.623482</td>\n",
       "      <td>0.002429</td>\n",
       "      <td>0.000810</td>\n",
       "      <td>62.789474</td>\n",
       "    </tr>\n",
       "    <tr>\n",
       "      <th>std</th>\n",
       "      <td>254.102966</td>\n",
       "      <td>52.694904</td>\n",
       "      <td>76.904556</td>\n",
       "      <td>6.493159</td>\n",
       "      <td>2.774133</td>\n",
       "      <td>70.743301</td>\n",
       "      <td>5.770537</td>\n",
       "      <td>16.361685</td>\n",
       "      <td>13.514643</td>\n",
       "      <td>19.791594</td>\n",
       "      <td>5.740006</td>\n",
       "      <td>6.985996</td>\n",
       "      <td>0.977820</td>\n",
       "      <td>0.0</td>\n",
       "      <td>9.564205</td>\n",
       "      <td>0.921299</td>\n",
       "      <td>0.837940</td>\n",
       "      <td>55.387764</td>\n",
       "      <td>6.999623</td>\n",
       "      <td>21.801034</td>\n",
       "      <td>5.772716</td>\n",
       "      <td>0.443950</td>\n",
       "      <td>3.642617</td>\n",
       "      <td>8.831191</td>\n",
       "      <td>5.888623</td>\n",
       "      <td>1.996027</td>\n",
       "      <td>1.131514</td>\n",
       "      <td>0.049246</td>\n",
       "      <td>0.028456</td>\n",
       "      <td>121.488036</td>\n",
       "    </tr>\n",
       "    <tr>\n",
       "      <th>min</th>\n",
       "      <td>3.000000</td>\n",
       "      <td>1.000000</td>\n",
       "      <td>0.000000</td>\n",
       "      <td>0.000000</td>\n",
       "      <td>0.350000</td>\n",
       "      <td>0.000000</td>\n",
       "      <td>0.000000</td>\n",
       "      <td>7.000000</td>\n",
       "      <td>-15.000000</td>\n",
       "      <td>0.000000</td>\n",
       "      <td>0.000000</td>\n",
       "      <td>0.000000</td>\n",
       "      <td>0.000000</td>\n",
       "      <td>0.0</td>\n",
       "      <td>45.000000</td>\n",
       "      <td>0.400000</td>\n",
       "      <td>0.100000</td>\n",
       "      <td>1.000000</td>\n",
       "      <td>0.000000</td>\n",
       "      <td>0.000000</td>\n",
       "      <td>2.000000</td>\n",
       "      <td>2023.000000</td>\n",
       "      <td>1.000000</td>\n",
       "      <td>1.000000</td>\n",
       "      <td>0.000000</td>\n",
       "      <td>0.000000</td>\n",
       "      <td>1.000000</td>\n",
       "      <td>0.000000</td>\n",
       "      <td>0.000000</td>\n",
       "      <td>16.000000</td>\n",
       "    </tr>\n",
       "    <tr>\n",
       "      <th>25%</th>\n",
       "      <td>274.000000</td>\n",
       "      <td>59.000000</td>\n",
       "      <td>76.500000</td>\n",
       "      <td>5.000000</td>\n",
       "      <td>1.283333</td>\n",
       "      <td>76.500000</td>\n",
       "      <td>6.000000</td>\n",
       "      <td>46.000000</td>\n",
       "      <td>39.000000</td>\n",
       "      <td>60.000000</td>\n",
       "      <td>6.000000</td>\n",
       "      <td>0.000000</td>\n",
       "      <td>29.214999</td>\n",
       "      <td>0.0</td>\n",
       "      <td>63.000000</td>\n",
       "      <td>0.400000</td>\n",
       "      <td>0.800000</td>\n",
       "      <td>38.000000</td>\n",
       "      <td>5.000000</td>\n",
       "      <td>19.000000</td>\n",
       "      <td>10.000000</td>\n",
       "      <td>2023.000000</td>\n",
       "      <td>4.000000</td>\n",
       "      <td>8.000000</td>\n",
       "      <td>9.000000</td>\n",
       "      <td>1.000000</td>\n",
       "      <td>2.000000</td>\n",
       "      <td>0.000000</td>\n",
       "      <td>0.000000</td>\n",
       "      <td>23.000000</td>\n",
       "    </tr>\n",
       "    <tr>\n",
       "      <th>50%</th>\n",
       "      <td>479.000000</td>\n",
       "      <td>85.000000</td>\n",
       "      <td>123.000000</td>\n",
       "      <td>7.000000</td>\n",
       "      <td>2.250000</td>\n",
       "      <td>127.000000</td>\n",
       "      <td>6.000000</td>\n",
       "      <td>57.000000</td>\n",
       "      <td>48.000000</td>\n",
       "      <td>76.000000</td>\n",
       "      <td>9.000000</td>\n",
       "      <td>0.000000</td>\n",
       "      <td>29.490000</td>\n",
       "      <td>0.0</td>\n",
       "      <td>79.000000</td>\n",
       "      <td>0.400000</td>\n",
       "      <td>1.200000</td>\n",
       "      <td>87.000000</td>\n",
       "      <td>10.000000</td>\n",
       "      <td>55.000000</td>\n",
       "      <td>14.334871</td>\n",
       "      <td>2023.000000</td>\n",
       "      <td>7.000000</td>\n",
       "      <td>15.000000</td>\n",
       "      <td>13.000000</td>\n",
       "      <td>3.000000</td>\n",
       "      <td>3.000000</td>\n",
       "      <td>0.000000</td>\n",
       "      <td>0.000000</td>\n",
       "      <td>34.000000</td>\n",
       "    </tr>\n",
       "    <tr>\n",
       "      <th>75%</th>\n",
       "      <td>693.000000</td>\n",
       "      <td>145.000000</td>\n",
       "      <td>188.000000</td>\n",
       "      <td>16.000000</td>\n",
       "      <td>4.841667</td>\n",
       "      <td>180.000000</td>\n",
       "      <td>14.000000</td>\n",
       "      <td>66.000000</td>\n",
       "      <td>55.000000</td>\n",
       "      <td>88.000000</td>\n",
       "      <td>13.000000</td>\n",
       "      <td>0.000000</td>\n",
       "      <td>29.830000</td>\n",
       "      <td>0.0</td>\n",
       "      <td>81.000000</td>\n",
       "      <td>2.500000</td>\n",
       "      <td>2.500000</td>\n",
       "      <td>132.500000</td>\n",
       "      <td>10.000000</td>\n",
       "      <td>58.000000</td>\n",
       "      <td>16.000000</td>\n",
       "      <td>2024.000000</td>\n",
       "      <td>10.000000</td>\n",
       "      <td>23.000000</td>\n",
       "      <td>18.000000</td>\n",
       "      <td>5.000000</td>\n",
       "      <td>4.000000</td>\n",
       "      <td>0.000000</td>\n",
       "      <td>0.000000</td>\n",
       "      <td>62.000000</td>\n",
       "    </tr>\n",
       "    <tr>\n",
       "      <th>max</th>\n",
       "      <td>936.000000</td>\n",
       "      <td>199.000000</td>\n",
       "      <td>277.000000</td>\n",
       "      <td>22.000000</td>\n",
       "      <td>14.016667</td>\n",
       "      <td>260.000000</td>\n",
       "      <td>21.000000</td>\n",
       "      <td>111.000000</td>\n",
       "      <td>88.000000</td>\n",
       "      <td>100.000000</td>\n",
       "      <td>36.000000</td>\n",
       "      <td>51.000000</td>\n",
       "      <td>30.540001</td>\n",
       "      <td>0.0</td>\n",
       "      <td>85.000000</td>\n",
       "      <td>2.500000</td>\n",
       "      <td>3.500000</td>\n",
       "      <td>200.000000</td>\n",
       "      <td>30.000000</td>\n",
       "      <td>78.000000</td>\n",
       "      <td>40.000000</td>\n",
       "      <td>2024.000000</td>\n",
       "      <td>12.000000</td>\n",
       "      <td>31.000000</td>\n",
       "      <td>23.000000</td>\n",
       "      <td>6.000000</td>\n",
       "      <td>4.000000</td>\n",
       "      <td>1.000000</td>\n",
       "      <td>1.000000</td>\n",
       "      <td>1429.000000</td>\n",
       "    </tr>\n",
       "  </tbody>\n",
       "</table>\n",
       "</div>"
      ],
      "text/plain": [
       "            flight     aircraft         from           to  flight_time  \\\n",
       "count  1235.000000  1235.000000  1235.000000  1235.000000  1235.000000   \n",
       "mean    473.756275    93.719838   132.422672     9.821862     3.301646   \n",
       "std     254.102966    52.694904    76.904556     6.493159     2.774133   \n",
       "min       3.000000     1.000000     0.000000     0.000000     0.350000   \n",
       "25%     274.000000    59.000000    76.500000     5.000000     1.283333   \n",
       "50%     479.000000    85.000000   123.000000     7.000000     2.250000   \n",
       "75%     693.000000   145.000000   188.000000    16.000000     4.841667   \n",
       "max     936.000000   199.000000   277.000000    22.000000    14.016667   \n",
       "\n",
       "         from_city      to_city  temperature    dew_point     humidity  \\\n",
       "count  1235.000000  1235.000000  1235.000000  1235.000000  1235.000000   \n",
       "mean    127.400000     9.048583    57.166802    46.621053    72.429960   \n",
       "std      70.743301     5.770537    16.361685    13.514643    19.791594   \n",
       "min       0.000000     0.000000     7.000000   -15.000000     0.000000   \n",
       "25%      76.500000     6.000000    46.000000    39.000000    60.000000   \n",
       "50%     127.000000     6.000000    57.000000    48.000000    76.000000   \n",
       "75%     180.000000    14.000000    66.000000    55.000000    88.000000   \n",
       "max     260.000000    21.000000   111.000000    88.000000   100.000000   \n",
       "\n",
       "        wind_speed    wind_gust     pressure  precip  my_flightradar24_rating  \\\n",
       "count  1235.000000  1235.000000  1235.000000  1235.0              1235.000000   \n",
       "mean      9.774899     1.680972    29.448463     0.0                74.207287   \n",
       "std       5.740006     6.985996     0.977820     0.0                 9.564205   \n",
       "min       0.000000     0.000000     0.000000     0.0                45.000000   \n",
       "25%       6.000000     0.000000    29.214999     0.0                63.000000   \n",
       "50%       9.000000     0.000000    29.490000     0.0                79.000000   \n",
       "75%      13.000000     0.000000    29.830000     0.0                81.000000   \n",
       "max      36.000000    51.000000    30.540001     0.0                85.000000   \n",
       "\n",
       "       arrival_delay_index  departure_delay_index          msn         type  \\\n",
       "count          1235.000000            1235.000000  1235.000000  1235.000000   \n",
       "mean              0.988988               1.414656    89.493117    10.326316   \n",
       "std               0.921299               0.837940    55.387764     6.999623   \n",
       "min               0.400000               0.100000     1.000000     0.000000   \n",
       "25%               0.400000               0.800000    38.000000     5.000000   \n",
       "50%               0.400000               1.200000    87.000000    10.000000   \n",
       "75%               2.500000               2.500000   132.500000    10.000000   \n",
       "max               2.500000               3.500000   200.000000    30.000000   \n",
       "\n",
       "           airline          age         year        month          day  \\\n",
       "count  1235.000000  1235.000000  1235.000000  1235.000000  1235.000000   \n",
       "mean     43.548988    13.053052  2023.269636     6.842915    15.317409   \n",
       "std      21.801034     5.772716     0.443950     3.642617     8.831191   \n",
       "min       0.000000     2.000000  2023.000000     1.000000     1.000000   \n",
       "25%      19.000000    10.000000  2023.000000     4.000000     8.000000   \n",
       "50%      55.000000    14.334871  2023.000000     7.000000    15.000000   \n",
       "75%      58.000000    16.000000  2024.000000    10.000000    23.000000   \n",
       "max      78.000000    40.000000  2024.000000    12.000000    31.000000   \n",
       "\n",
       "              hour    dayofweek      quarter  is_year_start  is_year_end  \\\n",
       "count  1235.000000  1235.000000  1235.000000    1235.000000  1235.000000   \n",
       "mean     13.056680     3.021862     2.623482       0.002429     0.000810   \n",
       "std       5.888623     1.996027     1.131514       0.049246     0.028456   \n",
       "min       0.000000     0.000000     1.000000       0.000000     0.000000   \n",
       "25%       9.000000     1.000000     2.000000       0.000000     0.000000   \n",
       "50%      13.000000     3.000000     3.000000       0.000000     0.000000   \n",
       "75%      18.000000     5.000000     4.000000       0.000000     0.000000   \n",
       "max      23.000000     6.000000     4.000000       1.000000     1.000000   \n",
       "\n",
       "       arrival_delay  \n",
       "count    1235.000000  \n",
       "mean       62.789474  \n",
       "std       121.488036  \n",
       "min        16.000000  \n",
       "25%        23.000000  \n",
       "50%        34.000000  \n",
       "75%        62.000000  \n",
       "max      1429.000000  "
      ]
     },
     "execution_count": 85,
     "metadata": {},
     "output_type": "execute_result"
    }
   ],
   "source": [
    "# Check statistical summaries of the dataset\n",
    "df.describe()"
   ]
  },
  {
   "cell_type": "code",
   "execution_count": 86,
   "metadata": {
    "colab": {
     "base_uri": "https://localhost:8080/"
    },
    "id": "0GMURfHqJk8B",
    "outputId": "34bfedc8-f497-431d-a006-48a416de6324"
   },
   "outputs": [
    {
     "data": {
      "text/plain": [
       "flight                       int32\n",
       "aircraft                     int32\n",
       "from                         int32\n",
       "to                           int32\n",
       "flight_time                float64\n",
       "from_city                    int32\n",
       "to_city                      int32\n",
       "temperature                  int32\n",
       "dew_point                    int32\n",
       "humidity                     int32\n",
       "wind_speed                   int32\n",
       "wind_gust                    int32\n",
       "pressure                   float32\n",
       "precip                     float32\n",
       "my_flightradar24_rating      int32\n",
       "arrival_delay_index        float32\n",
       "departure_delay_index      float32\n",
       "msn                          int32\n",
       "type                         int32\n",
       "airline                      int32\n",
       "age                        float64\n",
       "year                         int64\n",
       "month                        int64\n",
       "day                          int64\n",
       "hour                         int64\n",
       "dayofweek                    int64\n",
       "quarter                      int64\n",
       "is_year_start                int32\n",
       "is_year_end                  int32\n",
       "arrival_delay              float64\n",
       "dtype: object"
      ]
     },
     "execution_count": 86,
     "metadata": {},
     "output_type": "execute_result"
    }
   ],
   "source": [
    "df.dtypes"
   ]
  },
  {
   "cell_type": "markdown",
   "metadata": {
    "id": "IMGA5lmWJ0tZ"
   },
   "source": [
    "<a name = \"Target\"></a>\n",
    "## 6. Target variable distribution"
   ]
  },
  {
   "cell_type": "code",
   "execution_count": 87,
   "metadata": {
    "colab": {
     "base_uri": "https://localhost:8080/",
     "height": 523
    },
    "id": "B1gvb3xnKTX0",
    "outputId": "5e1948a4-a087-43c8-fb45-5f8bc514f850"
   },
   "outputs": [
    {
     "name": "stderr",
     "output_type": "stream",
     "text": [
      "C:\\Users\\MSI\\AppData\\Local\\Programs\\Python\\Python39\\lib\\site-packages\\seaborn\\axisgrid.py:88: UserWarning: The figure layout has changed to tight\n",
      "  self._figure.tight_layout(*args, **kwargs)\n"
     ]
    },
    {
     "data": {
      "text/plain": [
       "<seaborn.axisgrid.FacetGrid at 0x2152232ac10>"
      ]
     },
     "execution_count": 87,
     "metadata": {},
     "output_type": "execute_result"
    },
    {
     "data": {
      "image/png": "[encoded data removed]",
      "text/plain": [
       "<Figure size 360x360 with 1 Axes>"
      ]
     },
     "metadata": {
      "needs_background": "light"
     },
     "output_type": "display_data"
    }
   ],
   "source": [
    "sns.displot(df, x=\"arrival_delay\", kind=\"kde\")"
   ]
  },
  {
   "cell_type": "markdown",
   "metadata": {
    "id": "83dM5p7fMLSe"
   },
   "source": [
    "<a name = \"Model\"></a>\n",
    "## 9. Model training"
   ]
  },
  {
   "cell_type": "code",
   "execution_count": 88,
   "metadata": {
    "id": "z9mKRgerSAsX"
   },
   "outputs": [],
   "source": [
    "X = df.loc[:, df.columns != \"arrival_delay\"]\n",
    "y = np.array(df.loc[:, df.columns == \"arrival_delay\"][\"arrival_delay\"])"
   ]
  },
  {
   "cell_type": "code",
   "execution_count": 89,
   "metadata": {
    "colab": {
     "base_uri": "https://localhost:8080/"
    },
    "id": "Iremnqq1SAqF",
    "outputId": "bd1cacb6-3bd0-45a4-be61-a125d3219a4a"
   },
   "outputs": [
    {
     "name": "stdout",
     "output_type": "stream",
     "text": [
      "\n",
      "Dataset shape: (1235, 30)\n",
      "features_train shape: (988, 29) | features_test shape: (247, 29)\n",
      "labels_train shape: (988,) | labels_test shape: (247,)\n"
     ]
    }
   ],
   "source": [
    "print(f\"\\nDataset shape: {df.shape}\")\n",
    "X_train, X_test, y_train, y_test = train_test_split(X, y, test_size=0.20, random_state=42)\n",
    "print(f\"features_train shape: {X_train.shape} | features_test shape: {X_test.shape}\")\n",
    "print(f\"labels_train shape: {y_train.shape} | labels_test shape: {y_test.shape}\")"
   ]
  },
  {
   "cell_type": "code",
   "execution_count": 90,
   "metadata": {
    "id": "1UIdRWH5XhXF"
   },
   "outputs": [],
   "source": [
    "def print_metrics(labels_test, model_pred, regressor_name):\n",
    "\n",
    "    mse = mean_squared_error(labels_test, model_pred)\n",
    "    rmse = np.sqrt(mse)\n",
    "    mae = mean_absolute_error(labels_test, model_pred)\n",
    "    r2 = r2_score(labels_test, model_pred)\n",
    "\n",
    "    print(f\"MSE      : {mse}\", end=\"\\n\\n\")\n",
    "    print(f\"RMSE     : {rmse}\", end=\"\\n\\n\")\n",
    "    print(f\"MAE      : {mae}\", end=\"\\n\\n\")\n",
    "    print(f\"R2 Score : {r2}\", end=\"\\n\\n\")"
   ]
  },
  {
   "cell_type": "markdown",
   "metadata": {
    "id": "4aW3p9ocYIkb"
   },
   "source": [
    "## Linear Regression"
   ]
  },
  {
   "cell_type": "code",
   "execution_count": 91,
   "metadata": {
    "colab": {
     "base_uri": "https://localhost:8080/",
     "height": 74
    },
    "id": "1xOjKjxEXhUs",
    "outputId": "0fb005f5-b6ab-4fb2-d78e-d2b515a93f84"
   },
   "outputs": [
    {
     "data": {
      "text/html": [
       "<style>#sk-container-id-9 {color: black;background-color: white;}#sk-container-id-9 pre{padding: 0;}#sk-container-id-9 div.sk-toggleable {background-color: white;}#sk-container-id-9 label.sk-toggleable__label {cursor: pointer;display: block;width: 100%;margin-bottom: 0;padding: 0.3em;box-sizing: border-box;text-align: center;}#sk-container-id-9 label.sk-toggleable__label-arrow:before {content: \"▸\";float: left;margin-right: 0.25em;color: #696969;}#sk-container-id-9 label.sk-toggleable__label-arrow:hover:before {color: black;}#sk-container-id-9 div.sk-estimator:hover label.sk-toggleable__label-arrow:before {color: black;}#sk-container-id-9 div.sk-toggleable__content {max-height: 0;max-width: 0;overflow: hidden;text-align: left;background-color: #f0f8ff;}#sk-container-id-9 div.sk-toggleable__content pre {margin: 0.2em;color: black;border-radius: 0.25em;background-color: #f0f8ff;}#sk-container-id-9 input.sk-toggleable__control:checked~div.sk-toggleable__content {max-height: 200px;max-width: 100%;overflow: auto;}#sk-container-id-9 input.sk-toggleable__control:checked~label.sk-toggleable__label-arrow:before {content: \"▾\";}#sk-container-id-9 div.sk-estimator input.sk-toggleable__control:checked~label.sk-toggleable__label {background-color: #d4ebff;}#sk-container-id-9 div.sk-label input.sk-toggleable__control:checked~label.sk-toggleable__label {background-color: #d4ebff;}#sk-container-id-9 input.sk-hidden--visually {border: 0;clip: rect(1px 1px 1px 1px);clip: rect(1px, 1px, 1px, 1px);height: 1px;margin: -1px;overflow: hidden;padding: 0;position: absolute;width: 1px;}#sk-container-id-9 div.sk-estimator {font-family: monospace;background-color: #f0f8ff;border: 1px dotted black;border-radius: 0.25em;box-sizing: border-box;margin-bottom: 0.5em;}#sk-container-id-9 div.sk-estimator:hover {background-color: #d4ebff;}#sk-container-id-9 div.sk-parallel-item::after {content: \"\";width: 100%;border-bottom: 1px solid gray;flex-grow: 1;}#sk-container-id-9 div.sk-label:hover label.sk-toggleable__label {background-color: #d4ebff;}#sk-container-id-9 div.sk-serial::before {content: \"\";position: absolute;border-left: 1px solid gray;box-sizing: border-box;top: 0;bottom: 0;left: 50%;z-index: 0;}#sk-container-id-9 div.sk-serial {display: flex;flex-direction: column;align-items: center;background-color: white;padding-right: 0.2em;padding-left: 0.2em;position: relative;}#sk-container-id-9 div.sk-item {position: relative;z-index: 1;}#sk-container-id-9 div.sk-parallel {display: flex;align-items: stretch;justify-content: center;background-color: white;position: relative;}#sk-container-id-9 div.sk-item::before, #sk-container-id-9 div.sk-parallel-item::before {content: \"\";position: absolute;border-left: 1px solid gray;box-sizing: border-box;top: 0;bottom: 0;left: 50%;z-index: -1;}#sk-container-id-9 div.sk-parallel-item {display: flex;flex-direction: column;z-index: 1;position: relative;background-color: white;}#sk-container-id-9 div.sk-parallel-item:first-child::after {align-self: flex-end;width: 50%;}#sk-container-id-9 div.sk-parallel-item:last-child::after {align-self: flex-start;width: 50%;}#sk-container-id-9 div.sk-parallel-item:only-child::after {width: 0;}#sk-container-id-9 div.sk-dashed-wrapped {border: 1px dashed gray;margin: 0 0.4em 0.5em 0.4em;box-sizing: border-box;padding-bottom: 0.4em;background-color: white;}#sk-container-id-9 div.sk-label label {font-family: monospace;font-weight: bold;display: inline-block;line-height: 1.2em;}#sk-container-id-9 div.sk-label-container {text-align: center;}#sk-container-id-9 div.sk-container {/* jupyter's `normalize.less` sets `[hidden] { display: none; }` but bootstrap.min.css set `[hidden] { display: none !important; }` so we also need the `!important` here to be able to override the default hidden behavior on the sphinx rendered scikit-learn.org. See: https://github.com/scikit-learn/scikit-learn/issues/21755 */display: inline-block !important;position: relative;}#sk-container-id-9 div.sk-text-repr-fallback {display: none;}</style><div id=\"sk-container-id-9\" class=\"sk-top-container\"><div class=\"sk-text-repr-fallback\"><pre>LinearRegression(n_jobs=-1)</pre><b>In a Jupyter environment, please rerun this cell to show the HTML representation or trust the notebook. <br />On GitHub, the HTML representation is unable to render, please try loading this page with nbviewer.org.</b></div><div class=\"sk-container\" hidden><div class=\"sk-item\"><div class=\"sk-estimator sk-toggleable\"><input class=\"sk-toggleable__control sk-hidden--visually\" id=\"sk-estimator-id-9\" type=\"checkbox\" checked><label for=\"sk-estimator-id-9\" class=\"sk-toggleable__label sk-toggleable__label-arrow\">LinearRegression</label><div class=\"sk-toggleable__content\"><pre>LinearRegression(n_jobs=-1)</pre></div></div></div></div></div>"
      ],
      "text/plain": [
       "LinearRegression(n_jobs=-1)"
      ]
     },
     "execution_count": 91,
     "metadata": {},
     "output_type": "execute_result"
    }
   ],
   "source": [
    "model = LinearRegression(n_jobs=-1)\n",
    "model.fit(X_train, y_train)"
   ]
  },
  {
   "cell_type": "code",
   "execution_count": 92,
   "metadata": {
    "colab": {
     "base_uri": "https://localhost:8080/"
    },
    "id": "UUKCcjunXhSm",
    "outputId": "a3322930-7bf4-41b4-a1d9-b900123990bc"
   },
   "outputs": [
    {
     "name": "stdout",
     "output_type": "stream",
     "text": [
      "MSE      : 10299.194298639864\n",
      "\n",
      "RMSE     : 101.48494616759604\n",
      "\n",
      "MAE      : 45.21611190937011\n",
      "\n",
      "R2 Score : 0.024752867780290067\n",
      "\n"
     ]
    }
   ],
   "source": [
    "model_pred = model.predict(X_test)\n",
    "print_metrics(y_test, model_pred, \"LinearRegression\")"
   ]
  },
  {
   "cell_type": "code",
   "execution_count": 93,
   "metadata": {},
   "outputs": [
    {
     "data": {
      "text/plain": [
       "['regressors/linear_regression_regressor.joblib']"
      ]
     },
     "execution_count": 93,
     "metadata": {},
     "output_type": "execute_result"
    }
   ],
   "source": [
    "# Save the model\n",
    "joblib.dump(model, 'regressors/linear_regression_regressor.joblib')"
   ]
  },
  {
   "cell_type": "markdown",
   "metadata": {
    "id": "fPAYbEilb5kV"
   },
   "source": [
    "## Decision Tree Regressor"
   ]
  },
  {
   "cell_type": "code",
   "execution_count": 94,
   "metadata": {
    "colab": {
     "base_uri": "https://localhost:8080/",
     "height": 74
    },
    "id": "kz8UgyY5XhQJ",
    "outputId": "23e6b72e-9198-4697-c38e-a47b9a7a54c6"
   },
   "outputs": [
    {
     "data": {
      "text/html": [
       "<style>#sk-container-id-10 {color: black;background-color: white;}#sk-container-id-10 pre{padding: 0;}#sk-container-id-10 div.sk-toggleable {background-color: white;}#sk-container-id-10 label.sk-toggleable__label {cursor: pointer;display: block;width: 100%;margin-bottom: 0;padding: 0.3em;box-sizing: border-box;text-align: center;}#sk-container-id-10 label.sk-toggleable__label-arrow:before {content: \"▸\";float: left;margin-right: 0.25em;color: #696969;}#sk-container-id-10 label.sk-toggleable__label-arrow:hover:before {color: black;}#sk-container-id-10 div.sk-estimator:hover label.sk-toggleable__label-arrow:before {color: black;}#sk-container-id-10 div.sk-toggleable__content {max-height: 0;max-width: 0;overflow: hidden;text-align: left;background-color: #f0f8ff;}#sk-container-id-10 div.sk-toggleable__content pre {margin: 0.2em;color: black;border-radius: 0.25em;background-color: #f0f8ff;}#sk-container-id-10 input.sk-toggleable__control:checked~div.sk-toggleable__content {max-height: 200px;max-width: 100%;overflow: auto;}#sk-container-id-10 input.sk-toggleable__control:checked~label.sk-toggleable__label-arrow:before {content: \"▾\";}#sk-container-id-10 div.sk-estimator input.sk-toggleable__control:checked~label.sk-toggleable__label {background-color: #d4ebff;}#sk-container-id-10 div.sk-label input.sk-toggleable__control:checked~label.sk-toggleable__label {background-color: #d4ebff;}#sk-container-id-10 input.sk-hidden--visually {border: 0;clip: rect(1px 1px 1px 1px);clip: rect(1px, 1px, 1px, 1px);height: 1px;margin: -1px;overflow: hidden;padding: 0;position: absolute;width: 1px;}#sk-container-id-10 div.sk-estimator {font-family: monospace;background-color: #f0f8ff;border: 1px dotted black;border-radius: 0.25em;box-sizing: border-box;margin-bottom: 0.5em;}#sk-container-id-10 div.sk-estimator:hover {background-color: #d4ebff;}#sk-container-id-10 div.sk-parallel-item::after {content: \"\";width: 100%;border-bottom: 1px solid gray;flex-grow: 1;}#sk-container-id-10 div.sk-label:hover label.sk-toggleable__label {background-color: #d4ebff;}#sk-container-id-10 div.sk-serial::before {content: \"\";position: absolute;border-left: 1px solid gray;box-sizing: border-box;top: 0;bottom: 0;left: 50%;z-index: 0;}#sk-container-id-10 div.sk-serial {display: flex;flex-direction: column;align-items: center;background-color: white;padding-right: 0.2em;padding-left: 0.2em;position: relative;}#sk-container-id-10 div.sk-item {position: relative;z-index: 1;}#sk-container-id-10 div.sk-parallel {display: flex;align-items: stretch;justify-content: center;background-color: white;position: relative;}#sk-container-id-10 div.sk-item::before, #sk-container-id-10 div.sk-parallel-item::before {content: \"\";position: absolute;border-left: 1px solid gray;box-sizing: border-box;top: 0;bottom: 0;left: 50%;z-index: -1;}#sk-container-id-10 div.sk-parallel-item {display: flex;flex-direction: column;z-index: 1;position: relative;background-color: white;}#sk-container-id-10 div.sk-parallel-item:first-child::after {align-self: flex-end;width: 50%;}#sk-container-id-10 div.sk-parallel-item:last-child::after {align-self: flex-start;width: 50%;}#sk-container-id-10 div.sk-parallel-item:only-child::after {width: 0;}#sk-container-id-10 div.sk-dashed-wrapped {border: 1px dashed gray;margin: 0 0.4em 0.5em 0.4em;box-sizing: border-box;padding-bottom: 0.4em;background-color: white;}#sk-container-id-10 div.sk-label label {font-family: monospace;font-weight: bold;display: inline-block;line-height: 1.2em;}#sk-container-id-10 div.sk-label-container {text-align: center;}#sk-container-id-10 div.sk-container {/* jupyter's `normalize.less` sets `[hidden] { display: none; }` but bootstrap.min.css set `[hidden] { display: none !important; }` so we also need the `!important` here to be able to override the default hidden behavior on the sphinx rendered scikit-learn.org. See: https://github.com/scikit-learn/scikit-learn/issues/21755 */display: inline-block !important;position: relative;}#sk-container-id-10 div.sk-text-repr-fallback {display: none;}</style><div id=\"sk-container-id-10\" class=\"sk-top-container\"><div class=\"sk-text-repr-fallback\"><pre>DecisionTreeRegressor()</pre><b>In a Jupyter environment, please rerun this cell to show the HTML representation or trust the notebook. <br />On GitHub, the HTML representation is unable to render, please try loading this page with nbviewer.org.</b></div><div class=\"sk-container\" hidden><div class=\"sk-item\"><div class=\"sk-estimator sk-toggleable\"><input class=\"sk-toggleable__control sk-hidden--visually\" id=\"sk-estimator-id-10\" type=\"checkbox\" checked><label for=\"sk-estimator-id-10\" class=\"sk-toggleable__label sk-toggleable__label-arrow\">DecisionTreeRegressor</label><div class=\"sk-toggleable__content\"><pre>DecisionTreeRegressor()</pre></div></div></div></div></div>"
      ],
      "text/plain": [
       "DecisionTreeRegressor()"
      ]
     },
     "execution_count": 94,
     "metadata": {},
     "output_type": "execute_result"
    }
   ],
   "source": [
    "model = DecisionTreeRegressor()\n",
    "model.fit(X_train, y_train)"
   ]
  },
  {
   "cell_type": "code",
   "execution_count": 95,
   "metadata": {
    "colab": {
     "base_uri": "https://localhost:8080/"
    },
    "id": "kQgfA8_Mb6_L",
    "outputId": "5366d0ef-b69b-4518-febf-674181cd46de"
   },
   "outputs": [
    {
     "name": "stdout",
     "output_type": "stream",
     "text": [
      "MSE      : 26505.433198380568\n",
      "\n",
      "RMSE     : 162.80489304188794\n",
      "\n",
      "MAE      : 55.587044534412954\n",
      "\n",
      "R2 Score : -1.5098417376566498\n",
      "\n"
     ]
    }
   ],
   "source": [
    "model_pred = model.predict(X_test)\n",
    "print_metrics(y_test, model_pred, \"DecisionTreeRegressor\")"
   ]
  },
  {
   "cell_type": "code",
   "execution_count": 96,
   "metadata": {},
   "outputs": [
    {
     "data": {
      "text/plain": [
       "['regressors/decision_tree_regressor.joblib']"
      ]
     },
     "execution_count": 96,
     "metadata": {},
     "output_type": "execute_result"
    }
   ],
   "source": [
    "# Save the model\n",
    "joblib.dump(model, 'regressors/decision_tree_regressor.joblib')"
   ]
  },
  {
   "cell_type": "markdown",
   "metadata": {
    "id": "KxxrE6ICcMaS"
   },
   "source": [
    "## XGBoost"
   ]
  },
  {
   "cell_type": "code",
   "execution_count": 97,
   "metadata": {
    "colab": {
     "base_uri": "https://localhost:8080/",
     "height": 74
    },
    "id": "JMJziCngb7CP",
    "outputId": "265ed4de-6aeb-477e-d4ec-8cb4585fb966"
   },
   "outputs": [
    {
     "data": {
      "text/html": [
       "<style>#sk-container-id-11 {color: black;background-color: white;}#sk-container-id-11 pre{padding: 0;}#sk-container-id-11 div.sk-toggleable {background-color: white;}#sk-container-id-11 label.sk-toggleable__label {cursor: pointer;display: block;width: 100%;margin-bottom: 0;padding: 0.3em;box-sizing: border-box;text-align: center;}#sk-container-id-11 label.sk-toggleable__label-arrow:before {content: \"▸\";float: left;margin-right: 0.25em;color: #696969;}#sk-container-id-11 label.sk-toggleable__label-arrow:hover:before {color: black;}#sk-container-id-11 div.sk-estimator:hover label.sk-toggleable__label-arrow:before {color: black;}#sk-container-id-11 div.sk-toggleable__content {max-height: 0;max-width: 0;overflow: hidden;text-align: left;background-color: #f0f8ff;}#sk-container-id-11 div.sk-toggleable__content pre {margin: 0.2em;color: black;border-radius: 0.25em;background-color: #f0f8ff;}#sk-container-id-11 input.sk-toggleable__control:checked~div.sk-toggleable__content {max-height: 200px;max-width: 100%;overflow: auto;}#sk-container-id-11 input.sk-toggleable__control:checked~label.sk-toggleable__label-arrow:before {content: \"▾\";}#sk-container-id-11 div.sk-estimator input.sk-toggleable__control:checked~label.sk-toggleable__label {background-color: #d4ebff;}#sk-container-id-11 div.sk-label input.sk-toggleable__control:checked~label.sk-toggleable__label {background-color: #d4ebff;}#sk-container-id-11 input.sk-hidden--visually {border: 0;clip: rect(1px 1px 1px 1px);clip: rect(1px, 1px, 1px, 1px);height: 1px;margin: -1px;overflow: hidden;padding: 0;position: absolute;width: 1px;}#sk-container-id-11 div.sk-estimator {font-family: monospace;background-color: #f0f8ff;border: 1px dotted black;border-radius: 0.25em;box-sizing: border-box;margin-bottom: 0.5em;}#sk-container-id-11 div.sk-estimator:hover {background-color: #d4ebff;}#sk-container-id-11 div.sk-parallel-item::after {content: \"\";width: 100%;border-bottom: 1px solid gray;flex-grow: 1;}#sk-container-id-11 div.sk-label:hover label.sk-toggleable__label {background-color: #d4ebff;}#sk-container-id-11 div.sk-serial::before {content: \"\";position: absolute;border-left: 1px solid gray;box-sizing: border-box;top: 0;bottom: 0;left: 50%;z-index: 0;}#sk-container-id-11 div.sk-serial {display: flex;flex-direction: column;align-items: center;background-color: white;padding-right: 0.2em;padding-left: 0.2em;position: relative;}#sk-container-id-11 div.sk-item {position: relative;z-index: 1;}#sk-container-id-11 div.sk-parallel {display: flex;align-items: stretch;justify-content: center;background-color: white;position: relative;}#sk-container-id-11 div.sk-item::before, #sk-container-id-11 div.sk-parallel-item::before {content: \"\";position: absolute;border-left: 1px solid gray;box-sizing: border-box;top: 0;bottom: 0;left: 50%;z-index: -1;}#sk-container-id-11 div.sk-parallel-item {display: flex;flex-direction: column;z-index: 1;position: relative;background-color: white;}#sk-container-id-11 div.sk-parallel-item:first-child::after {align-self: flex-end;width: 50%;}#sk-container-id-11 div.sk-parallel-item:last-child::after {align-self: flex-start;width: 50%;}#sk-container-id-11 div.sk-parallel-item:only-child::after {width: 0;}#sk-container-id-11 div.sk-dashed-wrapped {border: 1px dashed gray;margin: 0 0.4em 0.5em 0.4em;box-sizing: border-box;padding-bottom: 0.4em;background-color: white;}#sk-container-id-11 div.sk-label label {font-family: monospace;font-weight: bold;display: inline-block;line-height: 1.2em;}#sk-container-id-11 div.sk-label-container {text-align: center;}#sk-container-id-11 div.sk-container {/* jupyter's `normalize.less` sets `[hidden] { display: none; }` but bootstrap.min.css set `[hidden] { display: none !important; }` so we also need the `!important` here to be able to override the default hidden behavior on the sphinx rendered scikit-learn.org. See: https://github.com/scikit-learn/scikit-learn/issues/21755 */display: inline-block !important;position: relative;}#sk-container-id-11 div.sk-text-repr-fallback {display: none;}</style><div id=\"sk-container-id-11\" class=\"sk-top-container\"><div class=\"sk-text-repr-fallback\"><pre>GradientBoostingRegressor()</pre><b>In a Jupyter environment, please rerun this cell to show the HTML representation or trust the notebook. <br />On GitHub, the HTML representation is unable to render, please try loading this page with nbviewer.org.</b></div><div class=\"sk-container\" hidden><div class=\"sk-item\"><div class=\"sk-estimator sk-toggleable\"><input class=\"sk-toggleable__control sk-hidden--visually\" id=\"sk-estimator-id-11\" type=\"checkbox\" checked><label for=\"sk-estimator-id-11\" class=\"sk-toggleable__label sk-toggleable__label-arrow\">GradientBoostingRegressor</label><div class=\"sk-toggleable__content\"><pre>GradientBoostingRegressor()</pre></div></div></div></div></div>"
      ],
      "text/plain": [
       "GradientBoostingRegressor()"
      ]
     },
     "execution_count": 97,
     "metadata": {},
     "output_type": "execute_result"
    }
   ],
   "source": [
    "model = GradientBoostingRegressor()\n",
    "model.fit(X_train, y_train)"
   ]
  },
  {
   "cell_type": "code",
   "execution_count": 98,
   "metadata": {
    "colab": {
     "base_uri": "https://localhost:8080/"
    },
    "id": "8j3DVKC3b7Ew",
    "outputId": "69a339e2-d66b-4afa-e5ca-bc4ad210c66e"
   },
   "outputs": [
    {
     "name": "stdout",
     "output_type": "stream",
     "text": [
      "MSE      : 23114.047160391405\n",
      "\n",
      "RMSE     : 152.0330462774176\n",
      "\n",
      "MAE      : 49.36732075262896\n",
      "\n",
      "R2 Score : -1.1887059854905138\n",
      "\n"
     ]
    }
   ],
   "source": [
    "model_pred = model.predict(X_test)\n",
    "print_metrics(y_test, model_pred, \"GradientBoostingRegressor\")"
   ]
  },
  {
   "cell_type": "code",
   "execution_count": 99,
   "metadata": {},
   "outputs": [
    {
     "data": {
      "text/plain": [
       "['regressors/xgboost_regressor.joblib']"
      ]
     },
     "execution_count": 99,
     "metadata": {},
     "output_type": "execute_result"
    }
   ],
   "source": [
    "# Save the model\n",
    "joblib.dump(model, 'regressors/xgboost_regressor.joblib')"
   ]
  },
  {
   "cell_type": "markdown",
   "metadata": {
    "id": "6-5IJeUlcXfp"
   },
   "source": [
    "## Random Forest"
   ]
  },
  {
   "cell_type": "code",
   "execution_count": 100,
   "metadata": {
    "colab": {
     "base_uri": "https://localhost:8080/",
     "height": 74
    },
    "id": "d6g7uAaXcXBJ",
    "outputId": "ba6e5e0d-8aac-4777-a219-93f697dc891a"
   },
   "outputs": [
    {
     "data": {
      "text/html": [
       "<style>#sk-container-id-12 {color: black;background-color: white;}#sk-container-id-12 pre{padding: 0;}#sk-container-id-12 div.sk-toggleable {background-color: white;}#sk-container-id-12 label.sk-toggleable__label {cursor: pointer;display: block;width: 100%;margin-bottom: 0;padding: 0.3em;box-sizing: border-box;text-align: center;}#sk-container-id-12 label.sk-toggleable__label-arrow:before {content: \"▸\";float: left;margin-right: 0.25em;color: #696969;}#sk-container-id-12 label.sk-toggleable__label-arrow:hover:before {color: black;}#sk-container-id-12 div.sk-estimator:hover label.sk-toggleable__label-arrow:before {color: black;}#sk-container-id-12 div.sk-toggleable__content {max-height: 0;max-width: 0;overflow: hidden;text-align: left;background-color: #f0f8ff;}#sk-container-id-12 div.sk-toggleable__content pre {margin: 0.2em;color: black;border-radius: 0.25em;background-color: #f0f8ff;}#sk-container-id-12 input.sk-toggleable__control:checked~div.sk-toggleable__content {max-height: 200px;max-width: 100%;overflow: auto;}#sk-container-id-12 input.sk-toggleable__control:checked~label.sk-toggleable__label-arrow:before {content: \"▾\";}#sk-container-id-12 div.sk-estimator input.sk-toggleable__control:checked~label.sk-toggleable__label {background-color: #d4ebff;}#sk-container-id-12 div.sk-label input.sk-toggleable__control:checked~label.sk-toggleable__label {background-color: #d4ebff;}#sk-container-id-12 input.sk-hidden--visually {border: 0;clip: rect(1px 1px 1px 1px);clip: rect(1px, 1px, 1px, 1px);height: 1px;margin: -1px;overflow: hidden;padding: 0;position: absolute;width: 1px;}#sk-container-id-12 div.sk-estimator {font-family: monospace;background-color: #f0f8ff;border: 1px dotted black;border-radius: 0.25em;box-sizing: border-box;margin-bottom: 0.5em;}#sk-container-id-12 div.sk-estimator:hover {background-color: #d4ebff;}#sk-container-id-12 div.sk-parallel-item::after {content: \"\";width: 100%;border-bottom: 1px solid gray;flex-grow: 1;}#sk-container-id-12 div.sk-label:hover label.sk-toggleable__label {background-color: #d4ebff;}#sk-container-id-12 div.sk-serial::before {content: \"\";position: absolute;border-left: 1px solid gray;box-sizing: border-box;top: 0;bottom: 0;left: 50%;z-index: 0;}#sk-container-id-12 div.sk-serial {display: flex;flex-direction: column;align-items: center;background-color: white;padding-right: 0.2em;padding-left: 0.2em;position: relative;}#sk-container-id-12 div.sk-item {position: relative;z-index: 1;}#sk-container-id-12 div.sk-parallel {display: flex;align-items: stretch;justify-content: center;background-color: white;position: relative;}#sk-container-id-12 div.sk-item::before, #sk-container-id-12 div.sk-parallel-item::before {content: \"\";position: absolute;border-left: 1px solid gray;box-sizing: border-box;top: 0;bottom: 0;left: 50%;z-index: -1;}#sk-container-id-12 div.sk-parallel-item {display: flex;flex-direction: column;z-index: 1;position: relative;background-color: white;}#sk-container-id-12 div.sk-parallel-item:first-child::after {align-self: flex-end;width: 50%;}#sk-container-id-12 div.sk-parallel-item:last-child::after {align-self: flex-start;width: 50%;}#sk-container-id-12 div.sk-parallel-item:only-child::after {width: 0;}#sk-container-id-12 div.sk-dashed-wrapped {border: 1px dashed gray;margin: 0 0.4em 0.5em 0.4em;box-sizing: border-box;padding-bottom: 0.4em;background-color: white;}#sk-container-id-12 div.sk-label label {font-family: monospace;font-weight: bold;display: inline-block;line-height: 1.2em;}#sk-container-id-12 div.sk-label-container {text-align: center;}#sk-container-id-12 div.sk-container {/* jupyter's `normalize.less` sets `[hidden] { display: none; }` but bootstrap.min.css set `[hidden] { display: none !important; }` so we also need the `!important` here to be able to override the default hidden behavior on the sphinx rendered scikit-learn.org. See: https://github.com/scikit-learn/scikit-learn/issues/21755 */display: inline-block !important;position: relative;}#sk-container-id-12 div.sk-text-repr-fallback {display: none;}</style><div id=\"sk-container-id-12\" class=\"sk-top-container\"><div class=\"sk-text-repr-fallback\"><pre>RandomForestRegressor()</pre><b>In a Jupyter environment, please rerun this cell to show the HTML representation or trust the notebook. <br />On GitHub, the HTML representation is unable to render, please try loading this page with nbviewer.org.</b></div><div class=\"sk-container\" hidden><div class=\"sk-item\"><div class=\"sk-estimator sk-toggleable\"><input class=\"sk-toggleable__control sk-hidden--visually\" id=\"sk-estimator-id-12\" type=\"checkbox\" checked><label for=\"sk-estimator-id-12\" class=\"sk-toggleable__label sk-toggleable__label-arrow\">RandomForestRegressor</label><div class=\"sk-toggleable__content\"><pre>RandomForestRegressor()</pre></div></div></div></div></div>"
      ],
      "text/plain": [
       "RandomForestRegressor()"
      ]
     },
     "execution_count": 100,
     "metadata": {},
     "output_type": "execute_result"
    }
   ],
   "source": [
    "model = RandomForestRegressor()\n",
    "model.fit(X_train, y_train)"
   ]
  },
  {
   "cell_type": "code",
   "execution_count": 101,
   "metadata": {
    "colab": {
     "base_uri": "https://localhost:8080/"
    },
    "id": "14IMbS_EcW6c",
    "outputId": "a835063a-2630-49c3-c275-ce4e538c26e1"
   },
   "outputs": [
    {
     "name": "stdout",
     "output_type": "stream",
     "text": [
      "MSE      : 18268.440607692304\n",
      "\n",
      "RMSE     : 135.16079537977092\n",
      "\n",
      "MAE      : 48.8814979757085\n",
      "\n",
      "R2 Score : -0.7298677737472015\n",
      "\n"
     ]
    }
   ],
   "source": [
    "model_pred = model.predict(X_test)\n",
    "print_metrics(y_test, model_pred, \"RandomForestRegressor\")"
   ]
  },
  {
   "cell_type": "code",
   "execution_count": 102,
   "metadata": {},
   "outputs": [
    {
     "data": {
      "text/plain": [
       "['regressors/random_forest_regressor.joblib']"
      ]
     },
     "execution_count": 102,
     "metadata": {},
     "output_type": "execute_result"
    }
   ],
   "source": [
    "# Save the model\n",
    "joblib.dump(model, 'regressors/random_forest_regressor.joblib')"
   ]
  },
  {
   "cell_type": "code",
   "execution_count": 103,
   "metadata": {
    "scrolled": false
   },
   "outputs": [
    {
     "data": {
      "text/plain": [
       "Text(0, 0.5, 'Features')"
      ]
     },
     "execution_count": 103,
     "metadata": {},
     "output_type": "execute_result"
    },
    {
     "data": {
      "image/png": "[encoded data removed]",
      "text/plain": [
       "<Figure size 640x480 with 1 Axes>"
      ]
     },
     "metadata": {
      "needs_background": "light"
     },
     "output_type": "display_data"
    }
   ],
   "source": [
    "importances = pd.DataFrame({\n",
    "    \"Feature\": list(X.columns),\n",
    "    \"Importance\": model.feature_importances_\n",
    "})\n",
    "importances = importances.sort_values(by=\"Importance\", ascending=False)\n",
    "importances = importances.set_index(\"Feature\")\n",
    "importances\n",
    "plt.figure(figsize=(8, 6), dpi=80)\n",
    "plt.barh(importances.index, importances.Importance)\n",
    "plt.title(\"Feature Importance Ranking obtained from Random Forest Classifier\", fontsize=12)\n",
    "plt.xlabel(\"Importances\")\n",
    "plt.ylabel(\"Features\")"
   ]
  },
  {
   "cell_type": "markdown",
   "metadata": {
    "id": "9FI6q9aJRErI"
   },
   "source": [
    "## To Do\n",
    "- Fine tuning\n",
    "- Model validation\n"
   ]
  }
 ],
 "metadata": {
  "colab": {
   "provenance": []
  },
  "kernelspec": {
   "display_name": "Python 3 (ipykernel)",
   "language": "python",
   "name": "python3"
  },
  "language_info": {
   "codemirror_mode": {
    "name": "ipython",
    "version": 3
   },
   "file_extension": ".py",
   "mimetype": "text/x-python",
   "name": "python",
   "nbconvert_exporter": "python",
   "pygments_lexer": "ipython3",
   "version": "3.9.4"
  }
 },
 "nbformat": 4,
 "nbformat_minor": 1
}
