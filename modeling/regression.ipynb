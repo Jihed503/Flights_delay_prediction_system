{
  "cells": [
    {
      "cell_type": "markdown",
      "metadata": {
        "id": "AW1hbdZCdrPE"
      },
      "source": [
        "# Regression Engine to predict Arrival Delay"
      ]
    },
    {
      "cell_type": "markdown",
      "metadata": {
        "id": "MyEK3s8FHjGS"
      },
      "source": [
        "In this notebook we are going to buils a model to predict the delay time of flights."
      ]
    },
    {
      "cell_type": "markdown",
      "metadata": {
        "id": "xJQFN7T-IeQV"
      },
      "source": [
        "Table of contents:\n",
        "\n",
        "1. [Import relevant libraries](#Libraries)\n",
        "2. [Load files](#Load)\n",
        "3. [Preview files](#Preview)\n",
        "5. [Data exploration and transformation](#Exploration)\n",
        "6. [Target distribution](#Target)\n",
        "7. [Outliers](#Outliers)\n",
        "8. [Correlations](#Correlations)\n",
        "9. [Model training](#Model)\n",
        "10. [Test set predictions](#Predictions)\n",
        "11. [Creating a submission file](#Submission)\n",
        "12. [Tips to improve model performance](#Tips)"
      ]
    },
    {
      "cell_type": "markdown",
      "metadata": {
        "id": "CuMqeYYSI3QO"
      },
      "source": [
        "<a name = \"Libraries\"></a>\n",
        "## 1. Import relevant libraries"
      ]
    },
    {
      "cell_type": "code",
      "execution_count": 30,
      "metadata": {
        "id": "inud-GjTRUv1"
      },
      "outputs": [],
      "source": [
        "# Pre-requisites\n",
        "import pandas as pd\n",
        "import numpy as np\n",
        "import matplotlib\n",
        "import matplotlib.pyplot as plt\n",
        "import seaborn as sns\n",
        "import missingno as msno\n",
        "\n",
        "# Store the classifier models to save time\n",
        "import joblib\n",
        "\n",
        "# Preprocessing\n",
        "from sklearn.preprocessing import LabelEncoder\n",
        "from sklearn.model_selection import train_test_split\n",
        "\n",
        "# Classifiers from scikit-learn\n",
        "from sklearn.linear_model import LinearRegression\n",
        "from sklearn.tree import DecisionTreeRegressor\n",
        "from sklearn.ensemble import RandomForestRegressor\n",
        "from sklearn.ensemble import ExtraTreesRegressor\n",
        "from sklearn.ensemble import GradientBoostingRegressor\n",
        "\n",
        "# Performance metrics\n",
        "from sklearn.metrics import mean_squared_error\n",
        "from sklearn.metrics import mean_absolute_error\n",
        "from sklearn.metrics import r2_score"
      ]
    },
    {
      "cell_type": "code",
      "execution_count": 31,
      "metadata": {
        "colab": {
          "base_uri": "https://localhost:8080/"
        },
        "id": "syjwYYb4RZe_",
        "outputId": "de75a527-032f-423e-a1eb-f899d3d0d39a"
      },
      "outputs": [
        {
          "name": "stdout",
          "output_type": "stream",
          "text": [
            "Drive already mounted at /content/drive; to attempt to forcibly remount, call drive.mount(\"/content/drive\", force_remount=True).\n"
          ]
        }
      ],
      "source": [
        "from google.colab import drive\n",
        "drive.mount('/content/drive')"
      ]
    },
    {
      "cell_type": "markdown",
      "metadata": {
        "id": "qiX5-kuTI7cP"
      },
      "source": [
        "<a name = \"Load\"></a>\n",
        "## 2. Load files"
      ]
    },
    {
      "cell_type": "code",
      "execution_count": 32,
      "metadata": {
        "id": "P--VObRkRaZm"
      },
      "outputs": [],
      "source": [
        "# Path to your file within Google Drive\n",
        "file_path = '/content/drive/MyDrive/PFE/flights.csv'\n",
        "\n",
        "# Read the file using pandas\n",
        "df = pd.read_csv(file_path)"
      ]
    },
    {
      "cell_type": "markdown",
      "metadata": {
        "id": "3V2Cjv00JAGn"
      },
      "source": [
        "<a name = \"Preview\"></a>\n",
        "## 3. Preview files"
      ]
    },
    {
      "cell_type": "code",
      "execution_count": 33,
      "metadata": {
        "colab": {
          "base_uri": "https://localhost:8080/",
          "height": 313
        },
        "id": "R0ybf-I8TaPp",
        "outputId": "72d5d034-8edc-41e8-ff8c-7632a1254622"
      },
      "outputs": [
        {
          "data": {
            "application/vnd.google.colaboratory.intrinsic+json": {
              "type": "dataframe",
              "variable_name": "df"
            },
            "text/html": [
              "\n",
              "  <div id=\"df-34d34ae8-5292-444c-a441-d69940d2d078\" class=\"colab-df-container\">\n",
              "    <div>\n",
              "<style scoped>\n",
              "    .dataframe tbody tr th:only-of-type {\n",
              "        vertical-align: middle;\n",
              "    }\n",
              "\n",
              "    .dataframe tbody tr th {\n",
              "        vertical-align: top;\n",
              "    }\n",
              "\n",
              "    .dataframe thead th {\n",
              "        text-align: right;\n",
              "    }\n",
              "</style>\n",
              "<table border=\"1\" class=\"dataframe\">\n",
              "  <thead>\n",
              "    <tr style=\"text-align: right;\">\n",
              "      <th></th>\n",
              "      <th>aircraft</th>\n",
              "      <th>date</th>\n",
              "      <th>from</th>\n",
              "      <th>to</th>\n",
              "      <th>flight</th>\n",
              "      <th>flight_time</th>\n",
              "      <th>scheduled_time_departure</th>\n",
              "      <th>actual_time_departure</th>\n",
              "      <th>scheduled_time_arrival</th>\n",
              "      <th>status</th>\n",
              "      <th>actual_time_arrival</th>\n",
              "      <th>from_city</th>\n",
              "      <th>to_city</th>\n",
              "      <th>rounded_hour</th>\n",
              "      <th>airport</th>\n",
              "      <th>delay_time</th>\n",
              "    </tr>\n",
              "  </thead>\n",
              "  <tbody>\n",
              "    <tr>\n",
              "      <th>0</th>\n",
              "      <td>se-rrb</td>\n",
              "      <td>2024-03-20</td>\n",
              "      <td>arn</td>\n",
              "      <td>szg</td>\n",
              "      <td>D84471</td>\n",
              "      <td>2024-03-20T01:50:00.000+01:00</td>\n",
              "      <td>2024-03-20T10:15:00.000+01:00</td>\n",
              "      <td>2024-03-20T10:28:00.000+01:00</td>\n",
              "      <td>2024-03-20T12:25:00.000+01:00</td>\n",
              "      <td>On Time</td>\n",
              "      <td>2024-03-20T12:18:00.000+01:00</td>\n",
              "      <td>stockholm</td>\n",
              "      <td>salzburg</td>\n",
              "      <td>2024-03-20T12:00:00.000+01:00</td>\n",
              "      <td>szg</td>\n",
              "      <td>-7.0</td>\n",
              "    </tr>\n",
              "    <tr>\n",
              "      <th>1</th>\n",
              "      <td>se-rrb</td>\n",
              "      <td>2024-03-03</td>\n",
              "      <td>ume</td>\n",
              "      <td>arn</td>\n",
              "      <td>D84014</td>\n",
              "      <td>2024-03-03T00:50:00.000+01:00</td>\n",
              "      <td>2024-03-03T17:45:00.000+01:00</td>\n",
              "      <td>2024-03-03T17:54:00.000+01:00</td>\n",
              "      <td>2024-03-03T18:50:00.000+01:00</td>\n",
              "      <td>On Time</td>\n",
              "      <td>2024-03-03T18:44:00.000+01:00</td>\n",
              "      <td>umea</td>\n",
              "      <td>stockholm</td>\n",
              "      <td>2024-03-03T19:00:00.000+01:00</td>\n",
              "      <td>arn</td>\n",
              "      <td>-6.0</td>\n",
              "    </tr>\n",
              "    <tr>\n",
              "      <th>2</th>\n",
              "      <td>se-rrb</td>\n",
              "      <td>2023-12-03</td>\n",
              "      <td>arn</td>\n",
              "      <td>lla</td>\n",
              "      <td>D84039</td>\n",
              "      <td>2023-12-03T01:07:00.000+01:00</td>\n",
              "      <td>2023-12-03T13:05:00.000+01:00</td>\n",
              "      <td>2023-12-03T13:18:00.000+01:00</td>\n",
              "      <td>2023-12-03T14:25:00.000+01:00</td>\n",
              "      <td>On Time</td>\n",
              "      <td>2023-12-03T14:24:00.000+01:00</td>\n",
              "      <td>stockholm</td>\n",
              "      <td>lulea</td>\n",
              "      <td>2023-12-03T14:00:00.000+01:00</td>\n",
              "      <td>lla</td>\n",
              "      <td>-1.0</td>\n",
              "    </tr>\n",
              "    <tr>\n",
              "      <th>3</th>\n",
              "      <td>se-rrb</td>\n",
              "      <td>2023-12-03</td>\n",
              "      <td>lla</td>\n",
              "      <td>arn</td>\n",
              "      <td>D84036</td>\n",
              "      <td>2023-12-03T01:04:00.000+01:00</td>\n",
              "      <td>2023-12-03T10:15:00.000+01:00</td>\n",
              "      <td>2023-12-03T10:31:00.000+01:00</td>\n",
              "      <td>2023-12-03T11:35:00.000+01:00</td>\n",
              "      <td>On Time</td>\n",
              "      <td>2023-12-03T11:35:00.000+01:00</td>\n",
              "      <td>lulea</td>\n",
              "      <td>stockholm</td>\n",
              "      <td>2023-12-03T12:00:00.000+01:00</td>\n",
              "      <td>arn</td>\n",
              "      <td>0.0</td>\n",
              "    </tr>\n",
              "    <tr>\n",
              "      <th>4</th>\n",
              "      <td>se-rrb</td>\n",
              "      <td>2023-08-11</td>\n",
              "      <td>pmi</td>\n",
              "      <td>arn</td>\n",
              "      <td>D84214</td>\n",
              "      <td>2023-08-11T03:13:00.000+01:00</td>\n",
              "      <td>2023-08-11T20:05:00.000+01:00</td>\n",
              "      <td>2023-08-11T20:05:00.000+01:00</td>\n",
              "      <td>2023-08-11T23:45:00.000+01:00</td>\n",
              "      <td>On Time</td>\n",
              "      <td>2023-08-11T23:18:00.000+01:00</td>\n",
              "      <td>palma de mallorca</td>\n",
              "      <td>stockholm</td>\n",
              "      <td>2023-08-11T00:00:00.000+01:00</td>\n",
              "      <td>arn</td>\n",
              "      <td>-27.0</td>\n",
              "    </tr>\n",
              "  </tbody>\n",
              "</table>\n",
              "</div>\n",
              "    <div class=\"colab-df-buttons\">\n",
              "\n",
              "  <div class=\"colab-df-container\">\n",
              "    <button class=\"colab-df-convert\" onclick=\"convertToInteractive('df-34d34ae8-5292-444c-a441-d69940d2d078')\"\n",
              "            title=\"Convert this dataframe to an interactive table.\"\n",
              "            style=\"display:none;\">\n",
              "\n",
              "  <svg xmlns=\"http://www.w3.org/2000/svg\" height=\"24px\" viewBox=\"0 -960 960 960\">\n",
              "    <path d=\"M120-120v-720h720v720H120Zm60-500h600v-160H180v160Zm220 220h160v-160H400v160Zm0 220h160v-160H400v160ZM180-400h160v-160H180v160Zm440 0h160v-160H620v160ZM180-180h160v-160H180v160Zm440 0h160v-160H620v160Z\"/>\n",
              "  </svg>\n",
              "    </button>\n",
              "\n",
              "  <style>\n",
              "    .colab-df-container {\n",
              "      display:flex;\n",
              "      gap: 12px;\n",
              "    }\n",
              "\n",
              "    .colab-df-convert {\n",
              "      background-color: #E8F0FE;\n",
              "      border: none;\n",
              "      border-radius: 50%;\n",
              "      cursor: pointer;\n",
              "      display: none;\n",
              "      fill: #1967D2;\n",
              "      height: 32px;\n",
              "      padding: 0 0 0 0;\n",
              "      width: 32px;\n",
              "    }\n",
              "\n",
              "    .colab-df-convert:hover {\n",
              "      background-color: #E2EBFA;\n",
              "      box-shadow: 0px 1px 2px rgba(60, 64, 67, 0.3), 0px 1px 3px 1px rgba(60, 64, 67, 0.15);\n",
              "      fill: #174EA6;\n",
              "    }\n",
              "\n",
              "    .colab-df-buttons div {\n",
              "      margin-bottom: 4px;\n",
              "    }\n",
              "\n",
              "    [theme=dark] .colab-df-convert {\n",
              "      background-color: #3B4455;\n",
              "      fill: #D2E3FC;\n",
              "    }\n",
              "\n",
              "    [theme=dark] .colab-df-convert:hover {\n",
              "      background-color: #434B5C;\n",
              "      box-shadow: 0px 1px 3px 1px rgba(0, 0, 0, 0.15);\n",
              "      filter: drop-shadow(0px 1px 2px rgba(0, 0, 0, 0.3));\n",
              "      fill: #FFFFFF;\n",
              "    }\n",
              "  </style>\n",
              "\n",
              "    <script>\n",
              "      const buttonEl =\n",
              "        document.querySelector('#df-34d34ae8-5292-444c-a441-d69940d2d078 button.colab-df-convert');\n",
              "      buttonEl.style.display =\n",
              "        google.colab.kernel.accessAllowed ? 'block' : 'none';\n",
              "\n",
              "      async function convertToInteractive(key) {\n",
              "        const element = document.querySelector('#df-34d34ae8-5292-444c-a441-d69940d2d078');\n",
              "        const dataTable =\n",
              "          await google.colab.kernel.invokeFunction('convertToInteractive',\n",
              "                                                    [key], {});\n",
              "        if (!dataTable) return;\n",
              "\n",
              "        const docLinkHtml = 'Like what you see? Visit the ' +\n",
              "          '<a target=\"_blank\" href=https://colab.research.google.com/notebooks/data_table.ipynb>data table notebook</a>'\n",
              "          + ' to learn more about interactive tables.';\n",
              "        element.innerHTML = '';\n",
              "        dataTable['output_type'] = 'display_data';\n",
              "        await google.colab.output.renderOutput(dataTable, element);\n",
              "        const docLink = document.createElement('div');\n",
              "        docLink.innerHTML = docLinkHtml;\n",
              "        element.appendChild(docLink);\n",
              "      }\n",
              "    </script>\n",
              "  </div>\n",
              "\n",
              "\n",
              "<div id=\"df-f75449b0-6788-4b62-8a67-29eb3fb4606f\">\n",
              "  <button class=\"colab-df-quickchart\" onclick=\"quickchart('df-f75449b0-6788-4b62-8a67-29eb3fb4606f')\"\n",
              "            title=\"Suggest charts\"\n",
              "            style=\"display:none;\">\n",
              "\n",
              "<svg xmlns=\"http://www.w3.org/2000/svg\" height=\"24px\"viewBox=\"0 0 24 24\"\n",
              "     width=\"24px\">\n",
              "    <g>\n",
              "        <path d=\"M19 3H5c-1.1 0-2 .9-2 2v14c0 1.1.9 2 2 2h14c1.1 0 2-.9 2-2V5c0-1.1-.9-2-2-2zM9 17H7v-7h2v7zm4 0h-2V7h2v10zm4 0h-2v-4h2v4z\"/>\n",
              "    </g>\n",
              "</svg>\n",
              "  </button>\n",
              "\n",
              "<style>\n",
              "  .colab-df-quickchart {\n",
              "      --bg-color: #E8F0FE;\n",
              "      --fill-color: #1967D2;\n",
              "      --hover-bg-color: #E2EBFA;\n",
              "      --hover-fill-color: #174EA6;\n",
              "      --disabled-fill-color: #AAA;\n",
              "      --disabled-bg-color: #DDD;\n",
              "  }\n",
              "\n",
              "  [theme=dark] .colab-df-quickchart {\n",
              "      --bg-color: #3B4455;\n",
              "      --fill-color: #D2E3FC;\n",
              "      --hover-bg-color: #434B5C;\n",
              "      --hover-fill-color: #FFFFFF;\n",
              "      --disabled-bg-color: #3B4455;\n",
              "      --disabled-fill-color: #666;\n",
              "  }\n",
              "\n",
              "  .colab-df-quickchart {\n",
              "    background-color: var(--bg-color);\n",
              "    border: none;\n",
              "    border-radius: 50%;\n",
              "    cursor: pointer;\n",
              "    display: none;\n",
              "    fill: var(--fill-color);\n",
              "    height: 32px;\n",
              "    padding: 0;\n",
              "    width: 32px;\n",
              "  }\n",
              "\n",
              "  .colab-df-quickchart:hover {\n",
              "    background-color: var(--hover-bg-color);\n",
              "    box-shadow: 0 1px 2px rgba(60, 64, 67, 0.3), 0 1px 3px 1px rgba(60, 64, 67, 0.15);\n",
              "    fill: var(--button-hover-fill-color);\n",
              "  }\n",
              "\n",
              "  .colab-df-quickchart-complete:disabled,\n",
              "  .colab-df-quickchart-complete:disabled:hover {\n",
              "    background-color: var(--disabled-bg-color);\n",
              "    fill: var(--disabled-fill-color);\n",
              "    box-shadow: none;\n",
              "  }\n",
              "\n",
              "  .colab-df-spinner {\n",
              "    border: 2px solid var(--fill-color);\n",
              "    border-color: transparent;\n",
              "    border-bottom-color: var(--fill-color);\n",
              "    animation:\n",
              "      spin 1s steps(1) infinite;\n",
              "  }\n",
              "\n",
              "  @keyframes spin {\n",
              "    0% {\n",
              "      border-color: transparent;\n",
              "      border-bottom-color: var(--fill-color);\n",
              "      border-left-color: var(--fill-color);\n",
              "    }\n",
              "    20% {\n",
              "      border-color: transparent;\n",
              "      border-left-color: var(--fill-color);\n",
              "      border-top-color: var(--fill-color);\n",
              "    }\n",
              "    30% {\n",
              "      border-color: transparent;\n",
              "      border-left-color: var(--fill-color);\n",
              "      border-top-color: var(--fill-color);\n",
              "      border-right-color: var(--fill-color);\n",
              "    }\n",
              "    40% {\n",
              "      border-color: transparent;\n",
              "      border-right-color: var(--fill-color);\n",
              "      border-top-color: var(--fill-color);\n",
              "    }\n",
              "    60% {\n",
              "      border-color: transparent;\n",
              "      border-right-color: var(--fill-color);\n",
              "    }\n",
              "    80% {\n",
              "      border-color: transparent;\n",
              "      border-right-color: var(--fill-color);\n",
              "      border-bottom-color: var(--fill-color);\n",
              "    }\n",
              "    90% {\n",
              "      border-color: transparent;\n",
              "      border-bottom-color: var(--fill-color);\n",
              "    }\n",
              "  }\n",
              "</style>\n",
              "\n",
              "  <script>\n",
              "    async function quickchart(key) {\n",
              "      const quickchartButtonEl =\n",
              "        document.querySelector('#' + key + ' button');\n",
              "      quickchartButtonEl.disabled = true;  // To prevent multiple clicks.\n",
              "      quickchartButtonEl.classList.add('colab-df-spinner');\n",
              "      try {\n",
              "        const charts = await google.colab.kernel.invokeFunction(\n",
              "            'suggestCharts', [key], {});\n",
              "      } catch (error) {\n",
              "        console.error('Error during call to suggestCharts:', error);\n",
              "      }\n",
              "      quickchartButtonEl.classList.remove('colab-df-spinner');\n",
              "      quickchartButtonEl.classList.add('colab-df-quickchart-complete');\n",
              "    }\n",
              "    (() => {\n",
              "      let quickchartButtonEl =\n",
              "        document.querySelector('#df-f75449b0-6788-4b62-8a67-29eb3fb4606f button');\n",
              "      quickchartButtonEl.style.display =\n",
              "        google.colab.kernel.accessAllowed ? 'block' : 'none';\n",
              "    })();\n",
              "  </script>\n",
              "</div>\n",
              "\n",
              "    </div>\n",
              "  </div>\n"
            ],
            "text/plain": [
              "  aircraft        date from   to  flight                    flight_time  \\\n",
              "0   se-rrb  2024-03-20  arn  szg  D84471  2024-03-20T01:50:00.000+01:00   \n",
              "1   se-rrb  2024-03-03  ume  arn  D84014  2024-03-03T00:50:00.000+01:00   \n",
              "2   se-rrb  2023-12-03  arn  lla  D84039  2023-12-03T01:07:00.000+01:00   \n",
              "3   se-rrb  2023-12-03  lla  arn  D84036  2023-12-03T01:04:00.000+01:00   \n",
              "4   se-rrb  2023-08-11  pmi  arn  D84214  2023-08-11T03:13:00.000+01:00   \n",
              "\n",
              "        scheduled_time_departure          actual_time_departure  \\\n",
              "0  2024-03-20T10:15:00.000+01:00  2024-03-20T10:28:00.000+01:00   \n",
              "1  2024-03-03T17:45:00.000+01:00  2024-03-03T17:54:00.000+01:00   \n",
              "2  2023-12-03T13:05:00.000+01:00  2023-12-03T13:18:00.000+01:00   \n",
              "3  2023-12-03T10:15:00.000+01:00  2023-12-03T10:31:00.000+01:00   \n",
              "4  2023-08-11T20:05:00.000+01:00  2023-08-11T20:05:00.000+01:00   \n",
              "\n",
              "          scheduled_time_arrival   status            actual_time_arrival  \\\n",
              "0  2024-03-20T12:25:00.000+01:00  On Time  2024-03-20T12:18:00.000+01:00   \n",
              "1  2024-03-03T18:50:00.000+01:00  On Time  2024-03-03T18:44:00.000+01:00   \n",
              "2  2023-12-03T14:25:00.000+01:00  On Time  2023-12-03T14:24:00.000+01:00   \n",
              "3  2023-12-03T11:35:00.000+01:00  On Time  2023-12-03T11:35:00.000+01:00   \n",
              "4  2023-08-11T23:45:00.000+01:00  On Time  2023-08-11T23:18:00.000+01:00   \n",
              "\n",
              "           from_city    to_city                   rounded_hour airport  \\\n",
              "0          stockholm   salzburg  2024-03-20T12:00:00.000+01:00     szg   \n",
              "1               umea  stockholm  2024-03-03T19:00:00.000+01:00     arn   \n",
              "2          stockholm      lulea  2023-12-03T14:00:00.000+01:00     lla   \n",
              "3              lulea  stockholm  2023-12-03T12:00:00.000+01:00     arn   \n",
              "4  palma de mallorca  stockholm  2023-08-11T00:00:00.000+01:00     arn   \n",
              "\n",
              "   delay_time  \n",
              "0        -7.0  \n",
              "1        -6.0  \n",
              "2        -1.0  \n",
              "3         0.0  \n",
              "4       -27.0  "
            ]
          },
          "execution_count": 33,
          "metadata": {},
          "output_type": "execute_result"
        }
      ],
      "source": [
        "df.head()"
      ]
    },
    {
      "cell_type": "markdown",
      "metadata": {
        "id": "nGYT4zKBJBJi"
      },
      "source": [
        "<a name = \"Exploration\"></a>\n",
        "## 5. Data exploration and transformation"
      ]
    },
    {
      "cell_type": "code",
      "execution_count": 34,
      "metadata": {
        "colab": {
          "base_uri": "https://localhost:8080/",
          "height": 648
        },
        "id": "NtLOWjUyJbF7",
        "outputId": "5857ad24-0256-4359-81a5-4a3f9bd8d1a4"
      },
      "outputs": [
        {
          "name": "stdout",
          "output_type": "stream",
          "text": [
            "Axes(0.125,0.11;0.698618x0.77)\n"
          ]
        },
        {
          "data": {
            "image/png": "[encoded data removed]",
            "text/plain": [
              "<Figure size 2500x1000 with 2 Axes>"
            ]
          },
          "metadata": {},
          "output_type": "display_data"
        }
      ],
      "source": [
        "print(msno.matrix(df))"
      ]
    },
    {
      "cell_type": "code",
      "execution_count": 35,
      "metadata": {
        "id": "J8ZZKeiwJaWc"
      },
      "outputs": [],
      "source": [
        "df.dropna(inplace=True)"
      ]
    },
    {
      "cell_type": "code",
      "execution_count": 36,
      "metadata": {
        "colab": {
          "base_uri": "https://localhost:8080/"
        },
        "id": "C-BM1RrNJewE",
        "outputId": "596b985d-3c1d-42a9-cac2-2ee71f1d16cf"
      },
      "outputs": [
        {
          "data": {
            "text/plain": [
              "False"
            ]
          },
          "execution_count": 36,
          "metadata": {},
          "output_type": "execute_result"
        }
      ],
      "source": [
        "# Check for any missing values\n",
        "df.isnull().sum().any()"
      ]
    },
    {
      "cell_type": "code",
      "execution_count": 37,
      "metadata": {
        "colab": {
          "base_uri": "https://localhost:8080/"
        },
        "id": "LmS6Y4ExRaWl",
        "outputId": "91819025-a1c4-4821-c964-717d0ba09fc3"
      },
      "outputs": [
        {
          "name": "stderr",
          "output_type": "stream",
          "text": [
            "<ipython-input-37-557b9867a39e>:23: SettingWithCopyWarning: \n",
            "A value is trying to be set on a copy of a slice from a DataFrame.\n",
            "Try using .loc[row_indexer,col_indexer] = value instead\n",
            "\n",
            "See the caveats in the documentation: https://pandas.pydata.org/pandas-docs/stable/user_guide/indexing.html#returning-a-view-versus-a-copy\n",
            "  df[\"arrival_delay\"] = df[\"actual_time_arrival\"] - df[\"scheduled_time_arrival\"]\n",
            "<ipython-input-37-557b9867a39e>:25: SettingWithCopyWarning: \n",
            "A value is trying to be set on a copy of a slice from a DataFrame.\n",
            "Try using .loc[row_indexer,col_indexer] = value instead\n",
            "\n",
            "See the caveats in the documentation: https://pandas.pydata.org/pandas-docs/stable/user_guide/indexing.html#returning-a-view-versus-a-copy\n",
            "  df['arrival_delay'] = df['arrival_delay'].dt.total_seconds() / 60\n",
            "<ipython-input-37-557b9867a39e>:28: SettingWithCopyWarning: \n",
            "A value is trying to be set on a copy of a slice from a DataFrame.\n",
            "Try using .loc[row_indexer,col_indexer] = value instead\n",
            "\n",
            "See the caveats in the documentation: https://pandas.pydata.org/pandas-docs/stable/user_guide/indexing.html#returning-a-view-versus-a-copy\n",
            "  df['year'] = df['scheduled_time_arrival'].dt.year\n",
            "<ipython-input-37-557b9867a39e>:29: SettingWithCopyWarning: \n",
            "A value is trying to be set on a copy of a slice from a DataFrame.\n",
            "Try using .loc[row_indexer,col_indexer] = value instead\n",
            "\n",
            "See the caveats in the documentation: https://pandas.pydata.org/pandas-docs/stable/user_guide/indexing.html#returning-a-view-versus-a-copy\n",
            "  df['month'] = df['scheduled_time_arrival'].dt.month\n",
            "<ipython-input-37-557b9867a39e>:30: SettingWithCopyWarning: \n",
            "A value is trying to be set on a copy of a slice from a DataFrame.\n",
            "Try using .loc[row_indexer,col_indexer] = value instead\n",
            "\n",
            "See the caveats in the documentation: https://pandas.pydata.org/pandas-docs/stable/user_guide/indexing.html#returning-a-view-versus-a-copy\n",
            "  df['day'] = df['scheduled_time_arrival'].dt.day\n",
            "<ipython-input-37-557b9867a39e>:31: SettingWithCopyWarning: \n",
            "A value is trying to be set on a copy of a slice from a DataFrame.\n",
            "Try using .loc[row_indexer,col_indexer] = value instead\n",
            "\n",
            "See the caveats in the documentation: https://pandas.pydata.org/pandas-docs/stable/user_guide/indexing.html#returning-a-view-versus-a-copy\n",
            "  df['hour'] = df['scheduled_time_arrival'].dt.hour\n",
            "<ipython-input-37-557b9867a39e>:32: SettingWithCopyWarning: \n",
            "A value is trying to be set on a copy of a slice from a DataFrame.\n",
            "Try using .loc[row_indexer,col_indexer] = value instead\n",
            "\n",
            "See the caveats in the documentation: https://pandas.pydata.org/pandas-docs/stable/user_guide/indexing.html#returning-a-view-versus-a-copy\n",
            "  df['dayofweek'] = df['scheduled_time_arrival'].dt.dayofweek\n",
            "<ipython-input-37-557b9867a39e>:33: SettingWithCopyWarning: \n",
            "A value is trying to be set on a copy of a slice from a DataFrame.\n",
            "Try using .loc[row_indexer,col_indexer] = value instead\n",
            "\n",
            "See the caveats in the documentation: https://pandas.pydata.org/pandas-docs/stable/user_guide/indexing.html#returning-a-view-versus-a-copy\n",
            "  df['quarter'] = df['scheduled_time_arrival'].dt.quarter\n",
            "<ipython-input-37-557b9867a39e>:34: SettingWithCopyWarning: \n",
            "A value is trying to be set on a copy of a slice from a DataFrame.\n",
            "Try using .loc[row_indexer,col_indexer] = value instead\n",
            "\n",
            "See the caveats in the documentation: https://pandas.pydata.org/pandas-docs/stable/user_guide/indexing.html#returning-a-view-versus-a-copy\n",
            "  df['is_year_start'] = df['scheduled_time_arrival'].dt.is_year_start\n",
            "<ipython-input-37-557b9867a39e>:35: SettingWithCopyWarning: \n",
            "A value is trying to be set on a copy of a slice from a DataFrame.\n",
            "Try using .loc[row_indexer,col_indexer] = value instead\n",
            "\n",
            "See the caveats in the documentation: https://pandas.pydata.org/pandas-docs/stable/user_guide/indexing.html#returning-a-view-versus-a-copy\n",
            "  df['is_year_end'] = df['scheduled_time_arrival'].dt.is_year_end\n",
            "<ipython-input-37-557b9867a39e>:37: SettingWithCopyWarning: \n",
            "A value is trying to be set on a copy of a slice from a DataFrame.\n",
            "Try using .loc[row_indexer,col_indexer] = value instead\n",
            "\n",
            "See the caveats in the documentation: https://pandas.pydata.org/pandas-docs/stable/user_guide/indexing.html#returning-a-view-versus-a-copy\n",
            "  df[\"is_year_start\"] = df[\"is_year_start\"].astype('int')\n",
            "<ipython-input-37-557b9867a39e>:38: SettingWithCopyWarning: \n",
            "A value is trying to be set on a copy of a slice from a DataFrame.\n",
            "Try using .loc[row_indexer,col_indexer] = value instead\n",
            "\n",
            "See the caveats in the documentation: https://pandas.pydata.org/pandas-docs/stable/user_guide/indexing.html#returning-a-view-versus-a-copy\n",
            "  df[\"is_year_end\"] = df[\"is_year_end\"].astype('int')\n"
          ]
        }
      ],
      "source": [
        "df['status'] = df['status'].map({\"On Time\": 0, \"Delayed\": 1})\n",
        "\n",
        "# Convert datetime string column to datetime type\n",
        "df['flight_time'] = pd.to_datetime(df['flight_time']).dt.tz_localize(None)\n",
        "df['scheduled_time_departure'] = pd.to_datetime(df['scheduled_time_departure']).dt.tz_localize(None)\n",
        "df['actual_time_departure'] = pd.to_datetime(df['actual_time_departure']).dt.tz_localize(None)\n",
        "df['scheduled_time_arrival'] = pd.to_datetime(df['scheduled_time_arrival']).dt.tz_localize(None)\n",
        "df['actual_time_arrival'] = pd.to_datetime(df['actual_time_arrival']).dt.tz_localize(None)\n",
        "df['date'] = pd.to_datetime(df['date']).dt.tz_localize(None)\n",
        "df[\"status\"] = df[\"status\"].astype('int')\n",
        "\n",
        "df[\"departure_delay\"] = df[\"actual_time_departure\"] - df[\"scheduled_time_departure\"]\n",
        "# Convert the departure delay to minutes\n",
        "df['departure_delay'] = df['departure_delay'].dt.total_seconds() / 60\n",
        "\n",
        "df[\"departure_delay_15\"] = df[\"departure_delay\"] > 15\n",
        "df[\"departure_delay_15\"] = df[\"departure_delay_15\"].astype('int')\n",
        "\n",
        "df = df[df['status']==1]\n",
        "\n",
        "\n",
        "\n",
        "df[\"arrival_delay\"] = df[\"actual_time_arrival\"] - df[\"scheduled_time_arrival\"]\n",
        "# Convert the arrival delay to minutes\n",
        "df['arrival_delay'] = df['arrival_delay'].dt.total_seconds() / 60\n",
        "\n",
        "\n",
        "df['year'] = df['scheduled_time_arrival'].dt.year\n",
        "df['month'] = df['scheduled_time_arrival'].dt.month\n",
        "df['day'] = df['scheduled_time_arrival'].dt.day\n",
        "df['hour'] = df['scheduled_time_arrival'].dt.hour\n",
        "df['dayofweek'] = df['scheduled_time_arrival'].dt.dayofweek\n",
        "df['quarter'] = df['scheduled_time_arrival'].dt.quarter\n",
        "df['is_year_start'] = df['scheduled_time_arrival'].dt.is_year_start\n",
        "df['is_year_end'] = df['scheduled_time_arrival'].dt.is_year_end\n",
        "\n",
        "df[\"is_year_start\"] = df[\"is_year_start\"].astype('int')\n",
        "df[\"is_year_end\"] = df[\"is_year_end\"].astype('int')\n",
        "\n",
        "cols = ['flight', 'aircraft', 'from', 'to', 'from_city',\n",
        "       'to_city', 'year', 'month', 'day', 'hour', 'dayofweek', 'quarter', 'is_year_start', 'is_year_end', 'departure_delay', 'arrival_delay']\n",
        "\n",
        "df = df[cols]"
      ]
    },
    {
      "cell_type": "code",
      "execution_count": 38,
      "metadata": {
        "id": "GJWpj6CnRaTg"
      },
      "outputs": [],
      "source": [
        "# encode categorical data into numeric values\n",
        "labelEncoder = LabelEncoder()\n",
        "df[\"flight\"] = labelEncoder.fit_transform(df[\"flight\"])\n",
        "df[\"aircraft\"] = labelEncoder.fit_transform(df[\"aircraft\"])\n",
        "df[\"from\"] = labelEncoder.fit_transform(df[\"from\"])\n",
        "df[\"to\"] = labelEncoder.fit_transform(df[\"to\"])\n",
        "df[\"from_city\"] = labelEncoder.fit_transform(df[\"from_city\"])\n",
        "df[\"to_city\"] = labelEncoder.fit_transform(df[\"to_city\"])"
      ]
    },
    {
      "cell_type": "code",
      "execution_count": 39,
      "metadata": {
        "colab": {
          "base_uri": "https://localhost:8080/",
          "height": 226
        },
        "id": "mIfgwp5ySAwe",
        "outputId": "f172fddb-8a5b-4b87-99b6-b7db529a4600"
      },
      "outputs": [
        {
          "data": {
            "application/vnd.google.colaboratory.intrinsic+json": {
              "type": "dataframe",
              "variable_name": "df"
            },
            "text/html": [
              "\n",
              "  <div id=\"df-bb6d6c84-2d09-4e01-9459-51076a830147\" class=\"colab-df-container\">\n",
              "    <div>\n",
              "<style scoped>\n",
              "    .dataframe tbody tr th:only-of-type {\n",
              "        vertical-align: middle;\n",
              "    }\n",
              "\n",
              "    .dataframe tbody tr th {\n",
              "        vertical-align: top;\n",
              "    }\n",
              "\n",
              "    .dataframe thead th {\n",
              "        text-align: right;\n",
              "    }\n",
              "</style>\n",
              "<table border=\"1\" class=\"dataframe\">\n",
              "  <thead>\n",
              "    <tr style=\"text-align: right;\">\n",
              "      <th></th>\n",
              "      <th>flight</th>\n",
              "      <th>aircraft</th>\n",
              "      <th>from</th>\n",
              "      <th>to</th>\n",
              "      <th>from_city</th>\n",
              "      <th>to_city</th>\n",
              "      <th>year</th>\n",
              "      <th>month</th>\n",
              "      <th>day</th>\n",
              "      <th>hour</th>\n",
              "      <th>dayofweek</th>\n",
              "      <th>quarter</th>\n",
              "      <th>is_year_start</th>\n",
              "      <th>is_year_end</th>\n",
              "      <th>departure_delay</th>\n",
              "      <th>arrival_delay</th>\n",
              "    </tr>\n",
              "  </thead>\n",
              "  <tbody>\n",
              "    <tr>\n",
              "      <th>20</th>\n",
              "      <td>7580</td>\n",
              "      <td>163</td>\n",
              "      <td>1004</td>\n",
              "      <td>195</td>\n",
              "      <td>919</td>\n",
              "      <td>211</td>\n",
              "      <td>2023</td>\n",
              "      <td>4</td>\n",
              "      <td>11</td>\n",
              "      <td>22</td>\n",
              "      <td>1</td>\n",
              "      <td>2</td>\n",
              "      <td>0</td>\n",
              "      <td>0</td>\n",
              "      <td>36.0</td>\n",
              "      <td>17.0</td>\n",
              "    </tr>\n",
              "    <tr>\n",
              "      <th>23</th>\n",
              "      <td>8618</td>\n",
              "      <td>274</td>\n",
              "      <td>917</td>\n",
              "      <td>1446</td>\n",
              "      <td>901</td>\n",
              "      <td>1365</td>\n",
              "      <td>2023</td>\n",
              "      <td>12</td>\n",
              "      <td>27</td>\n",
              "      <td>21</td>\n",
              "      <td>2</td>\n",
              "      <td>4</td>\n",
              "      <td>0</td>\n",
              "      <td>0</td>\n",
              "      <td>58.0</td>\n",
              "      <td>33.0</td>\n",
              "    </tr>\n",
              "    <tr>\n",
              "      <th>48</th>\n",
              "      <td>30342</td>\n",
              "      <td>458</td>\n",
              "      <td>76</td>\n",
              "      <td>219</td>\n",
              "      <td>1480</td>\n",
              "      <td>240</td>\n",
              "      <td>2023</td>\n",
              "      <td>11</td>\n",
              "      <td>1</td>\n",
              "      <td>18</td>\n",
              "      <td>2</td>\n",
              "      <td>4</td>\n",
              "      <td>0</td>\n",
              "      <td>0</td>\n",
              "      <td>41.0</td>\n",
              "      <td>25.0</td>\n",
              "    </tr>\n",
              "    <tr>\n",
              "      <th>50</th>\n",
              "      <td>30361</td>\n",
              "      <td>458</td>\n",
              "      <td>1290</td>\n",
              "      <td>77</td>\n",
              "      <td>1175</td>\n",
              "      <td>1479</td>\n",
              "      <td>2023</td>\n",
              "      <td>9</td>\n",
              "      <td>13</td>\n",
              "      <td>15</td>\n",
              "      <td>2</td>\n",
              "      <td>3</td>\n",
              "      <td>0</td>\n",
              "      <td>0</td>\n",
              "      <td>72.0</td>\n",
              "      <td>46.0</td>\n",
              "    </tr>\n",
              "    <tr>\n",
              "      <th>51</th>\n",
              "      <td>30565</td>\n",
              "      <td>458</td>\n",
              "      <td>267</td>\n",
              "      <td>77</td>\n",
              "      <td>1188</td>\n",
              "      <td>1479</td>\n",
              "      <td>2023</td>\n",
              "      <td>6</td>\n",
              "      <td>6</td>\n",
              "      <td>21</td>\n",
              "      <td>1</td>\n",
              "      <td>2</td>\n",
              "      <td>0</td>\n",
              "      <td>0</td>\n",
              "      <td>128.0</td>\n",
              "      <td>107.0</td>\n",
              "    </tr>\n",
              "  </tbody>\n",
              "</table>\n",
              "</div>\n",
              "    <div class=\"colab-df-buttons\">\n",
              "\n",
              "  <div class=\"colab-df-container\">\n",
              "    <button class=\"colab-df-convert\" onclick=\"convertToInteractive('df-bb6d6c84-2d09-4e01-9459-51076a830147')\"\n",
              "            title=\"Convert this dataframe to an interactive table.\"\n",
              "            style=\"display:none;\">\n",
              "\n",
              "  <svg xmlns=\"http://www.w3.org/2000/svg\" height=\"24px\" viewBox=\"0 -960 960 960\">\n",
              "    <path d=\"M120-120v-720h720v720H120Zm60-500h600v-160H180v160Zm220 220h160v-160H400v160Zm0 220h160v-160H400v160ZM180-400h160v-160H180v160Zm440 0h160v-160H620v160ZM180-180h160v-160H180v160Zm440 0h160v-160H620v160Z\"/>\n",
              "  </svg>\n",
              "    </button>\n",
              "\n",
              "  <style>\n",
              "    .colab-df-container {\n",
              "      display:flex;\n",
              "      gap: 12px;\n",
              "    }\n",
              "\n",
              "    .colab-df-convert {\n",
              "      background-color: #E8F0FE;\n",
              "      border: none;\n",
              "      border-radius: 50%;\n",
              "      cursor: pointer;\n",
              "      display: none;\n",
              "      fill: #1967D2;\n",
              "      height: 32px;\n",
              "      padding: 0 0 0 0;\n",
              "      width: 32px;\n",
              "    }\n",
              "\n",
              "    .colab-df-convert:hover {\n",
              "      background-color: #E2EBFA;\n",
              "      box-shadow: 0px 1px 2px rgba(60, 64, 67, 0.3), 0px 1px 3px 1px rgba(60, 64, 67, 0.15);\n",
              "      fill: #174EA6;\n",
              "    }\n",
              "\n",
              "    .colab-df-buttons div {\n",
              "      margin-bottom: 4px;\n",
              "    }\n",
              "\n",
              "    [theme=dark] .colab-df-convert {\n",
              "      background-color: #3B4455;\n",
              "      fill: #D2E3FC;\n",
              "    }\n",
              "\n",
              "    [theme=dark] .colab-df-convert:hover {\n",
              "      background-color: #434B5C;\n",
              "      box-shadow: 0px 1px 3px 1px rgba(0, 0, 0, 0.15);\n",
              "      filter: drop-shadow(0px 1px 2px rgba(0, 0, 0, 0.3));\n",
              "      fill: #FFFFFF;\n",
              "    }\n",
              "  </style>\n",
              "\n",
              "    <script>\n",
              "      const buttonEl =\n",
              "        document.querySelector('#df-bb6d6c84-2d09-4e01-9459-51076a830147 button.colab-df-convert');\n",
              "      buttonEl.style.display =\n",
              "        google.colab.kernel.accessAllowed ? 'block' : 'none';\n",
              "\n",
              "      async function convertToInteractive(key) {\n",
              "        const element = document.querySelector('#df-bb6d6c84-2d09-4e01-9459-51076a830147');\n",
              "        const dataTable =\n",
              "          await google.colab.kernel.invokeFunction('convertToInteractive',\n",
              "                                                    [key], {});\n",
              "        if (!dataTable) return;\n",
              "\n",
              "        const docLinkHtml = 'Like what you see? Visit the ' +\n",
              "          '<a target=\"_blank\" href=https://colab.research.google.com/notebooks/data_table.ipynb>data table notebook</a>'\n",
              "          + ' to learn more about interactive tables.';\n",
              "        element.innerHTML = '';\n",
              "        dataTable['output_type'] = 'display_data';\n",
              "        await google.colab.output.renderOutput(dataTable, element);\n",
              "        const docLink = document.createElement('div');\n",
              "        docLink.innerHTML = docLinkHtml;\n",
              "        element.appendChild(docLink);\n",
              "      }\n",
              "    </script>\n",
              "  </div>\n",
              "\n",
              "\n",
              "<div id=\"df-e6e2d058-8526-4394-8d5f-3352658f82e4\">\n",
              "  <button class=\"colab-df-quickchart\" onclick=\"quickchart('df-e6e2d058-8526-4394-8d5f-3352658f82e4')\"\n",
              "            title=\"Suggest charts\"\n",
              "            style=\"display:none;\">\n",
              "\n",
              "<svg xmlns=\"http://www.w3.org/2000/svg\" height=\"24px\"viewBox=\"0 0 24 24\"\n",
              "     width=\"24px\">\n",
              "    <g>\n",
              "        <path d=\"M19 3H5c-1.1 0-2 .9-2 2v14c0 1.1.9 2 2 2h14c1.1 0 2-.9 2-2V5c0-1.1-.9-2-2-2zM9 17H7v-7h2v7zm4 0h-2V7h2v10zm4 0h-2v-4h2v4z\"/>\n",
              "    </g>\n",
              "</svg>\n",
              "  </button>\n",
              "\n",
              "<style>\n",
              "  .colab-df-quickchart {\n",
              "      --bg-color: #E8F0FE;\n",
              "      --fill-color: #1967D2;\n",
              "      --hover-bg-color: #E2EBFA;\n",
              "      --hover-fill-color: #174EA6;\n",
              "      --disabled-fill-color: #AAA;\n",
              "      --disabled-bg-color: #DDD;\n",
              "  }\n",
              "\n",
              "  [theme=dark] .colab-df-quickchart {\n",
              "      --bg-color: #3B4455;\n",
              "      --fill-color: #D2E3FC;\n",
              "      --hover-bg-color: #434B5C;\n",
              "      --hover-fill-color: #FFFFFF;\n",
              "      --disabled-bg-color: #3B4455;\n",
              "      --disabled-fill-color: #666;\n",
              "  }\n",
              "\n",
              "  .colab-df-quickchart {\n",
              "    background-color: var(--bg-color);\n",
              "    border: none;\n",
              "    border-radius: 50%;\n",
              "    cursor: pointer;\n",
              "    display: none;\n",
              "    fill: var(--fill-color);\n",
              "    height: 32px;\n",
              "    padding: 0;\n",
              "    width: 32px;\n",
              "  }\n",
              "\n",
              "  .colab-df-quickchart:hover {\n",
              "    background-color: var(--hover-bg-color);\n",
              "    box-shadow: 0 1px 2px rgba(60, 64, 67, 0.3), 0 1px 3px 1px rgba(60, 64, 67, 0.15);\n",
              "    fill: var(--button-hover-fill-color);\n",
              "  }\n",
              "\n",
              "  .colab-df-quickchart-complete:disabled,\n",
              "  .colab-df-quickchart-complete:disabled:hover {\n",
              "    background-color: var(--disabled-bg-color);\n",
              "    fill: var(--disabled-fill-color);\n",
              "    box-shadow: none;\n",
              "  }\n",
              "\n",
              "  .colab-df-spinner {\n",
              "    border: 2px solid var(--fill-color);\n",
              "    border-color: transparent;\n",
              "    border-bottom-color: var(--fill-color);\n",
              "    animation:\n",
              "      spin 1s steps(1) infinite;\n",
              "  }\n",
              "\n",
              "  @keyframes spin {\n",
              "    0% {\n",
              "      border-color: transparent;\n",
              "      border-bottom-color: var(--fill-color);\n",
              "      border-left-color: var(--fill-color);\n",
              "    }\n",
              "    20% {\n",
              "      border-color: transparent;\n",
              "      border-left-color: var(--fill-color);\n",
              "      border-top-color: var(--fill-color);\n",
              "    }\n",
              "    30% {\n",
              "      border-color: transparent;\n",
              "      border-left-color: var(--fill-color);\n",
              "      border-top-color: var(--fill-color);\n",
              "      border-right-color: var(--fill-color);\n",
              "    }\n",
              "    40% {\n",
              "      border-color: transparent;\n",
              "      border-right-color: var(--fill-color);\n",
              "      border-top-color: var(--fill-color);\n",
              "    }\n",
              "    60% {\n",
              "      border-color: transparent;\n",
              "      border-right-color: var(--fill-color);\n",
              "    }\n",
              "    80% {\n",
              "      border-color: transparent;\n",
              "      border-right-color: var(--fill-color);\n",
              "      border-bottom-color: var(--fill-color);\n",
              "    }\n",
              "    90% {\n",
              "      border-color: transparent;\n",
              "      border-bottom-color: var(--fill-color);\n",
              "    }\n",
              "  }\n",
              "</style>\n",
              "\n",
              "  <script>\n",
              "    async function quickchart(key) {\n",
              "      const quickchartButtonEl =\n",
              "        document.querySelector('#' + key + ' button');\n",
              "      quickchartButtonEl.disabled = true;  // To prevent multiple clicks.\n",
              "      quickchartButtonEl.classList.add('colab-df-spinner');\n",
              "      try {\n",
              "        const charts = await google.colab.kernel.invokeFunction(\n",
              "            'suggestCharts', [key], {});\n",
              "      } catch (error) {\n",
              "        console.error('Error during call to suggestCharts:', error);\n",
              "      }\n",
              "      quickchartButtonEl.classList.remove('colab-df-spinner');\n",
              "      quickchartButtonEl.classList.add('colab-df-quickchart-complete');\n",
              "    }\n",
              "    (() => {\n",
              "      let quickchartButtonEl =\n",
              "        document.querySelector('#df-e6e2d058-8526-4394-8d5f-3352658f82e4 button');\n",
              "      quickchartButtonEl.style.display =\n",
              "        google.colab.kernel.accessAllowed ? 'block' : 'none';\n",
              "    })();\n",
              "  </script>\n",
              "</div>\n",
              "\n",
              "    </div>\n",
              "  </div>\n"
            ],
            "text/plain": [
              "    flight  aircraft  from    to  from_city  to_city  year  month  day  hour  \\\n",
              "20    7580       163  1004   195        919      211  2023      4   11    22   \n",
              "23    8618       274   917  1446        901     1365  2023     12   27    21   \n",
              "48   30342       458    76   219       1480      240  2023     11    1    18   \n",
              "50   30361       458  1290    77       1175     1479  2023      9   13    15   \n",
              "51   30565       458   267    77       1188     1479  2023      6    6    21   \n",
              "\n",
              "    dayofweek  quarter  is_year_start  is_year_end  departure_delay  \\\n",
              "20          1        2              0            0             36.0   \n",
              "23          2        4              0            0             58.0   \n",
              "48          2        4              0            0             41.0   \n",
              "50          2        3              0            0             72.0   \n",
              "51          1        2              0            0            128.0   \n",
              "\n",
              "    arrival_delay  \n",
              "20           17.0  \n",
              "23           33.0  \n",
              "48           25.0  \n",
              "50           46.0  \n",
              "51          107.0  "
            ]
          },
          "execution_count": 39,
          "metadata": {},
          "output_type": "execute_result"
        }
      ],
      "source": [
        "# Show the first few rows of the DataFrame\n",
        "df.head()"
      ]
    },
    {
      "cell_type": "code",
      "execution_count": 40,
      "metadata": {
        "colab": {
          "base_uri": "https://localhost:8080/",
          "height": 320
        },
        "id": "zK2YNOdzJjMK",
        "outputId": "0a7095b3-b40a-45f8-ebd6-4f05a63910ce"
      },
      "outputs": [
        {
          "data": {
            "application/vnd.google.colaboratory.intrinsic+json": {
              "summary": "{\n  \"name\": \"df\",\n  \"rows\": 8,\n  \"fields\": [\n    {\n      \"column\": \"flight\",\n      \"properties\": {\n        \"dtype\": \"number\",\n        \"std\": 31708.821180351493,\n        \"min\": 0.0,\n        \"max\": 101813.0,\n        \"num_unique_values\": 8,\n        \"samples\": [\n          21176.435425731488,\n          21977.0,\n          101813.0\n        ],\n        \"semantic_type\": \"\",\n        \"description\": \"\"\n      }\n    },\n    {\n      \"column\": \"aircraft\",\n      \"properties\": {\n        \"dtype\": \"number\",\n        \"std\": 35920.49094137238,\n        \"min\": 0.0,\n        \"max\": 101813.0,\n        \"num_unique_values\": 8,\n        \"samples\": [\n          228.0034376749531,\n          211.0,\n          101813.0\n        ],\n        \"semantic_type\": \"\",\n        \"description\": \"\"\n      }\n    },\n    {\n      \"column\": \"from\",\n      \"properties\": {\n        \"dtype\": \"number\",\n        \"std\": 35706.33176931311,\n        \"min\": 0.0,\n        \"max\": 101813.0,\n        \"num_unique_values\": 8,\n        \"samples\": [\n          864.734483808551,\n          864.0,\n          101813.0\n        ],\n        \"semantic_type\": \"\",\n        \"description\": \"\"\n      }\n    },\n    {\n      \"column\": \"to\",\n      \"properties\": {\n        \"dtype\": \"number\",\n        \"std\": 35703.160483197826,\n        \"min\": 0.0,\n        \"max\": 101813.0,\n        \"num_unique_values\": 8,\n        \"samples\": [\n          878.6890475675995,\n          896.0,\n          101813.0\n        ],\n        \"semantic_type\": \"\",\n        \"description\": \"\"\n      }\n    },\n    {\n      \"column\": \"from_city\",\n      \"properties\": {\n        \"dtype\": \"number\",\n        \"std\": 35714.42300076976,\n        \"min\": 0.0,\n        \"max\": 101813.0,\n        \"num_unique_values\": 8,\n        \"samples\": [\n          854.9307259387308,\n          893.0,\n          101813.0\n        ],\n        \"semantic_type\": \"\",\n        \"description\": \"\"\n      }\n    },\n    {\n      \"column\": \"to_city\",\n      \"properties\": {\n        \"dtype\": \"number\",\n        \"std\": 35712.422520873384,\n        \"min\": 0.0,\n        \"max\": 101813.0,\n        \"num_unique_values\": 8,\n        \"samples\": [\n          862.96398298842,\n          900.0,\n          101813.0\n        ],\n        \"semantic_type\": \"\",\n        \"description\": \"\"\n      }\n    },\n    {\n      \"column\": \"year\",\n      \"properties\": {\n        \"dtype\": \"number\",\n        \"std\": 35390.21414922858,\n        \"min\": 0.4359830111066236,\n        \"max\": 101813.0,\n        \"num_unique_values\": 5,\n        \"samples\": [\n          2023.2552129885182,\n          2024.0,\n          0.4359830111066236\n        ],\n        \"semantic_type\": \"\",\n        \"description\": \"\"\n      }\n    },\n    {\n      \"column\": \"month\",\n      \"properties\": {\n        \"dtype\": \"number\",\n        \"std\": 35994.170451487014,\n        \"min\": 1.0,\n        \"max\": 101813.0,\n        \"num_unique_values\": 8,\n        \"samples\": [\n          6.467838095331637,\n          7.0,\n          101813.0\n        ],\n        \"semantic_type\": \"\",\n        \"description\": \"\"\n      }\n    },\n    {\n      \"column\": \"day\",\n      \"properties\": {\n        \"dtype\": \"number\",\n        \"std\": 35991.09450211929,\n        \"min\": 1.0,\n        \"max\": 101813.0,\n        \"num_unique_values\": 8,\n        \"samples\": [\n          15.895366996356065,\n          16.0,\n          101813.0\n        ],\n        \"semantic_type\": \"\",\n        \"description\": \"\"\n      }\n    },\n    {\n      \"column\": \"hour\",\n      \"properties\": {\n        \"dtype\": \"number\",\n        \"std\": 35991.88010226427,\n        \"min\": 0.0,\n        \"max\": 101813.0,\n        \"num_unique_values\": 8,\n        \"samples\": [\n          14.167237975504111,\n          15.0,\n          101813.0\n        ],\n        \"semantic_type\": \"\",\n        \"description\": \"\"\n      }\n    },\n    {\n      \"column\": \"dayofweek\",\n      \"properties\": {\n        \"dtype\": \"number\",\n        \"std\": 35995.319575726855,\n        \"min\": 0.0,\n        \"max\": 101813.0,\n        \"num_unique_values\": 8,\n        \"samples\": [\n          3.0527535776374335,\n          3.0,\n          101813.0\n        ],\n        \"semantic_type\": \"\",\n        \"description\": \"\"\n      }\n    },\n    {\n      \"column\": \"quarter\",\n      \"properties\": {\n        \"dtype\": \"number\",\n        \"std\": 35995.49474815322,\n        \"min\": 1.0,\n        \"max\": 101813.0,\n        \"num_unique_values\": 7,\n        \"samples\": [\n          101813.0,\n          2.494750179250194,\n          3.0\n        ],\n        \"semantic_type\": \"\",\n        \"description\": \"\"\n      }\n    },\n    {\n      \"column\": \"is_year_start\",\n      \"properties\": {\n        \"dtype\": \"number\",\n        \"std\": 35996.278384475394,\n        \"min\": 0.0,\n        \"max\": 101813.0,\n        \"num_unique_values\": 5,\n        \"samples\": [\n          0.002180468113109328,\n          1.0,\n          0.046644775075359954\n        ],\n        \"semantic_type\": \"\",\n        \"description\": \"\"\n      }\n    },\n    {\n      \"column\": \"is_year_end\",\n      \"properties\": {\n        \"dtype\": \"number\",\n        \"std\": 35996.2783385275,\n        \"min\": 0.0,\n        \"max\": 101813.0,\n        \"num_unique_values\": 5,\n        \"samples\": [\n          0.002259043540608763,\n          1.0,\n          0.04747591390534576\n        ],\n        \"semantic_type\": \"\",\n        \"description\": \"\"\n      }\n    },\n    {\n      \"column\": \"departure_delay\",\n      \"properties\": {\n        \"dtype\": \"number\",\n        \"std\": 35981.97364506778,\n        \"min\": -1435.0,\n        \"max\": 101813.0,\n        \"num_unique_values\": 8,\n        \"samples\": [\n          37.97728187952423,\n          57.0,\n          101813.0\n        ],\n        \"semantic_type\": \"\",\n        \"description\": \"\"\n      }\n    },\n    {\n      \"column\": \"arrival_delay\",\n      \"properties\": {\n        \"dtype\": \"number\",\n        \"std\": 35903.552322462914,\n        \"min\": 16.0,\n        \"max\": 101813.0,\n        \"num_unique_values\": 8,\n        \"samples\": [\n          92.96943415870273,\n          39.0,\n          101813.0\n        ],\n        \"semantic_type\": \"\",\n        \"description\": \"\"\n      }\n    }\n  ]\n}",
              "type": "dataframe"
            },
            "text/html": [
              "\n",
              "  <div id=\"df-44e1d610-1a54-40bd-9fba-91286d3bc01a\" class=\"colab-df-container\">\n",
              "    <div>\n",
              "<style scoped>\n",
              "    .dataframe tbody tr th:only-of-type {\n",
              "        vertical-align: middle;\n",
              "    }\n",
              "\n",
              "    .dataframe tbody tr th {\n",
              "        vertical-align: top;\n",
              "    }\n",
              "\n",
              "    .dataframe thead th {\n",
              "        text-align: right;\n",
              "    }\n",
              "</style>\n",
              "<table border=\"1\" class=\"dataframe\">\n",
              "  <thead>\n",
              "    <tr style=\"text-align: right;\">\n",
              "      <th></th>\n",
              "      <th>flight</th>\n",
              "      <th>aircraft</th>\n",
              "      <th>from</th>\n",
              "      <th>to</th>\n",
              "      <th>from_city</th>\n",
              "      <th>to_city</th>\n",
              "      <th>year</th>\n",
              "      <th>month</th>\n",
              "      <th>day</th>\n",
              "      <th>hour</th>\n",
              "      <th>dayofweek</th>\n",
              "      <th>quarter</th>\n",
              "      <th>is_year_start</th>\n",
              "      <th>is_year_end</th>\n",
              "      <th>departure_delay</th>\n",
              "      <th>arrival_delay</th>\n",
              "    </tr>\n",
              "  </thead>\n",
              "  <tbody>\n",
              "    <tr>\n",
              "      <th>count</th>\n",
              "      <td>101813.000000</td>\n",
              "      <td>101813.000000</td>\n",
              "      <td>101813.000000</td>\n",
              "      <td>101813.000000</td>\n",
              "      <td>101813.000000</td>\n",
              "      <td>101813.000000</td>\n",
              "      <td>101813.000000</td>\n",
              "      <td>101813.000000</td>\n",
              "      <td>101813.000000</td>\n",
              "      <td>101813.000000</td>\n",
              "      <td>101813.000000</td>\n",
              "      <td>101813.000000</td>\n",
              "      <td>101813.000000</td>\n",
              "      <td>101813.000000</td>\n",
              "      <td>101813.000000</td>\n",
              "      <td>101813.000000</td>\n",
              "    </tr>\n",
              "    <tr>\n",
              "      <th>mean</th>\n",
              "      <td>21176.435426</td>\n",
              "      <td>228.003438</td>\n",
              "      <td>864.734484</td>\n",
              "      <td>878.689048</td>\n",
              "      <td>854.930726</td>\n",
              "      <td>862.963983</td>\n",
              "      <td>2023.255213</td>\n",
              "      <td>6.467838</td>\n",
              "      <td>15.895367</td>\n",
              "      <td>14.167238</td>\n",
              "      <td>3.052754</td>\n",
              "      <td>2.494750</td>\n",
              "      <td>0.002180</td>\n",
              "      <td>0.002259</td>\n",
              "      <td>37.977282</td>\n",
              "      <td>92.969434</td>\n",
              "    </tr>\n",
              "    <tr>\n",
              "      <th>std</th>\n",
              "      <td>11674.685337</td>\n",
              "      <td>141.332182</td>\n",
              "      <td>534.675213</td>\n",
              "      <td>536.616026</td>\n",
              "      <td>496.726716</td>\n",
              "      <td>495.477334</td>\n",
              "      <td>0.435983</td>\n",
              "      <td>3.319132</td>\n",
              "      <td>8.812826</td>\n",
              "      <td>5.977343</td>\n",
              "      <td>1.980540</td>\n",
              "      <td>1.069531</td>\n",
              "      <td>0.046645</td>\n",
              "      <td>0.047476</td>\n",
              "      <td>238.264789</td>\n",
              "      <td>217.704886</td>\n",
              "    </tr>\n",
              "    <tr>\n",
              "      <th>min</th>\n",
              "      <td>0.000000</td>\n",
              "      <td>0.000000</td>\n",
              "      <td>0.000000</td>\n",
              "      <td>0.000000</td>\n",
              "      <td>0.000000</td>\n",
              "      <td>0.000000</td>\n",
              "      <td>2023.000000</td>\n",
              "      <td>1.000000</td>\n",
              "      <td>1.000000</td>\n",
              "      <td>0.000000</td>\n",
              "      <td>0.000000</td>\n",
              "      <td>1.000000</td>\n",
              "      <td>0.000000</td>\n",
              "      <td>0.000000</td>\n",
              "      <td>-1435.000000</td>\n",
              "      <td>16.000000</td>\n",
              "    </tr>\n",
              "    <tr>\n",
              "      <th>25%</th>\n",
              "      <td>11242.000000</td>\n",
              "      <td>103.000000</td>\n",
              "      <td>391.000000</td>\n",
              "      <td>400.000000</td>\n",
              "      <td>397.000000</td>\n",
              "      <td>410.000000</td>\n",
              "      <td>2023.000000</td>\n",
              "      <td>4.000000</td>\n",
              "      <td>8.000000</td>\n",
              "      <td>11.000000</td>\n",
              "      <td>1.000000</td>\n",
              "      <td>2.000000</td>\n",
              "      <td>0.000000</td>\n",
              "      <td>0.000000</td>\n",
              "      <td>40.000000</td>\n",
              "      <td>24.000000</td>\n",
              "    </tr>\n",
              "    <tr>\n",
              "      <th>50%</th>\n",
              "      <td>21977.000000</td>\n",
              "      <td>211.000000</td>\n",
              "      <td>864.000000</td>\n",
              "      <td>896.000000</td>\n",
              "      <td>893.000000</td>\n",
              "      <td>900.000000</td>\n",
              "      <td>2023.000000</td>\n",
              "      <td>7.000000</td>\n",
              "      <td>16.000000</td>\n",
              "      <td>15.000000</td>\n",
              "      <td>3.000000</td>\n",
              "      <td>3.000000</td>\n",
              "      <td>0.000000</td>\n",
              "      <td>0.000000</td>\n",
              "      <td>57.000000</td>\n",
              "      <td>39.000000</td>\n",
              "    </tr>\n",
              "    <tr>\n",
              "      <th>75%</th>\n",
              "      <td>30550.000000</td>\n",
              "      <td>364.000000</td>\n",
              "      <td>1321.000000</td>\n",
              "      <td>1325.000000</td>\n",
              "      <td>1275.000000</td>\n",
              "      <td>1288.000000</td>\n",
              "      <td>2024.000000</td>\n",
              "      <td>9.000000</td>\n",
              "      <td>23.000000</td>\n",
              "      <td>19.000000</td>\n",
              "      <td>5.000000</td>\n",
              "      <td>3.000000</td>\n",
              "      <td>0.000000</td>\n",
              "      <td>0.000000</td>\n",
              "      <td>87.000000</td>\n",
              "      <td>72.000000</td>\n",
              "    </tr>\n",
              "    <tr>\n",
              "      <th>max</th>\n",
              "      <td>42284.000000</td>\n",
              "      <td>460.000000</td>\n",
              "      <td>1856.000000</td>\n",
              "      <td>1858.000000</td>\n",
              "      <td>1745.000000</td>\n",
              "      <td>1745.000000</td>\n",
              "      <td>2024.000000</td>\n",
              "      <td>12.000000</td>\n",
              "      <td>31.000000</td>\n",
              "      <td>23.000000</td>\n",
              "      <td>6.000000</td>\n",
              "      <td>4.000000</td>\n",
              "      <td>1.000000</td>\n",
              "      <td>1.000000</td>\n",
              "      <td>1421.000000</td>\n",
              "      <td>1439.000000</td>\n",
              "    </tr>\n",
              "  </tbody>\n",
              "</table>\n",
              "</div>\n",
              "    <div class=\"colab-df-buttons\">\n",
              "\n",
              "  <div class=\"colab-df-container\">\n",
              "    <button class=\"colab-df-convert\" onclick=\"convertToInteractive('df-44e1d610-1a54-40bd-9fba-91286d3bc01a')\"\n",
              "            title=\"Convert this dataframe to an interactive table.\"\n",
              "            style=\"display:none;\">\n",
              "\n",
              "  <svg xmlns=\"http://www.w3.org/2000/svg\" height=\"24px\" viewBox=\"0 -960 960 960\">\n",
              "    <path d=\"M120-120v-720h720v720H120Zm60-500h600v-160H180v160Zm220 220h160v-160H400v160Zm0 220h160v-160H400v160ZM180-400h160v-160H180v160Zm440 0h160v-160H620v160ZM180-180h160v-160H180v160Zm440 0h160v-160H620v160Z\"/>\n",
              "  </svg>\n",
              "    </button>\n",
              "\n",
              "  <style>\n",
              "    .colab-df-container {\n",
              "      display:flex;\n",
              "      gap: 12px;\n",
              "    }\n",
              "\n",
              "    .colab-df-convert {\n",
              "      background-color: #E8F0FE;\n",
              "      border: none;\n",
              "      border-radius: 50%;\n",
              "      cursor: pointer;\n",
              "      display: none;\n",
              "      fill: #1967D2;\n",
              "      height: 32px;\n",
              "      padding: 0 0 0 0;\n",
              "      width: 32px;\n",
              "    }\n",
              "\n",
              "    .colab-df-convert:hover {\n",
              "      background-color: #E2EBFA;\n",
              "      box-shadow: 0px 1px 2px rgba(60, 64, 67, 0.3), 0px 1px 3px 1px rgba(60, 64, 67, 0.15);\n",
              "      fill: #174EA6;\n",
              "    }\n",
              "\n",
              "    .colab-df-buttons div {\n",
              "      margin-bottom: 4px;\n",
              "    }\n",
              "\n",
              "    [theme=dark] .colab-df-convert {\n",
              "      background-color: #3B4455;\n",
              "      fill: #D2E3FC;\n",
              "    }\n",
              "\n",
              "    [theme=dark] .colab-df-convert:hover {\n",
              "      background-color: #434B5C;\n",
              "      box-shadow: 0px 1px 3px 1px rgba(0, 0, 0, 0.15);\n",
              "      filter: drop-shadow(0px 1px 2px rgba(0, 0, 0, 0.3));\n",
              "      fill: #FFFFFF;\n",
              "    }\n",
              "  </style>\n",
              "\n",
              "    <script>\n",
              "      const buttonEl =\n",
              "        document.querySelector('#df-44e1d610-1a54-40bd-9fba-91286d3bc01a button.colab-df-convert');\n",
              "      buttonEl.style.display =\n",
              "        google.colab.kernel.accessAllowed ? 'block' : 'none';\n",
              "\n",
              "      async function convertToInteractive(key) {\n",
              "        const element = document.querySelector('#df-44e1d610-1a54-40bd-9fba-91286d3bc01a');\n",
              "        const dataTable =\n",
              "          await google.colab.kernel.invokeFunction('convertToInteractive',\n",
              "                                                    [key], {});\n",
              "        if (!dataTable) return;\n",
              "\n",
              "        const docLinkHtml = 'Like what you see? Visit the ' +\n",
              "          '<a target=\"_blank\" href=https://colab.research.google.com/notebooks/data_table.ipynb>data table notebook</a>'\n",
              "          + ' to learn more about interactive tables.';\n",
              "        element.innerHTML = '';\n",
              "        dataTable['output_type'] = 'display_data';\n",
              "        await google.colab.output.renderOutput(dataTable, element);\n",
              "        const docLink = document.createElement('div');\n",
              "        docLink.innerHTML = docLinkHtml;\n",
              "        element.appendChild(docLink);\n",
              "      }\n",
              "    </script>\n",
              "  </div>\n",
              "\n",
              "\n",
              "<div id=\"df-2e161eb8-8a99-4ff1-b7b9-4a1d4f8d2592\">\n",
              "  <button class=\"colab-df-quickchart\" onclick=\"quickchart('df-2e161eb8-8a99-4ff1-b7b9-4a1d4f8d2592')\"\n",
              "            title=\"Suggest charts\"\n",
              "            style=\"display:none;\">\n",
              "\n",
              "<svg xmlns=\"http://www.w3.org/2000/svg\" height=\"24px\"viewBox=\"0 0 24 24\"\n",
              "     width=\"24px\">\n",
              "    <g>\n",
              "        <path d=\"M19 3H5c-1.1 0-2 .9-2 2v14c0 1.1.9 2 2 2h14c1.1 0 2-.9 2-2V5c0-1.1-.9-2-2-2zM9 17H7v-7h2v7zm4 0h-2V7h2v10zm4 0h-2v-4h2v4z\"/>\n",
              "    </g>\n",
              "</svg>\n",
              "  </button>\n",
              "\n",
              "<style>\n",
              "  .colab-df-quickchart {\n",
              "      --bg-color: #E8F0FE;\n",
              "      --fill-color: #1967D2;\n",
              "      --hover-bg-color: #E2EBFA;\n",
              "      --hover-fill-color: #174EA6;\n",
              "      --disabled-fill-color: #AAA;\n",
              "      --disabled-bg-color: #DDD;\n",
              "  }\n",
              "\n",
              "  [theme=dark] .colab-df-quickchart {\n",
              "      --bg-color: #3B4455;\n",
              "      --fill-color: #D2E3FC;\n",
              "      --hover-bg-color: #434B5C;\n",
              "      --hover-fill-color: #FFFFFF;\n",
              "      --disabled-bg-color: #3B4455;\n",
              "      --disabled-fill-color: #666;\n",
              "  }\n",
              "\n",
              "  .colab-df-quickchart {\n",
              "    background-color: var(--bg-color);\n",
              "    border: none;\n",
              "    border-radius: 50%;\n",
              "    cursor: pointer;\n",
              "    display: none;\n",
              "    fill: var(--fill-color);\n",
              "    height: 32px;\n",
              "    padding: 0;\n",
              "    width: 32px;\n",
              "  }\n",
              "\n",
              "  .colab-df-quickchart:hover {\n",
              "    background-color: var(--hover-bg-color);\n",
              "    box-shadow: 0 1px 2px rgba(60, 64, 67, 0.3), 0 1px 3px 1px rgba(60, 64, 67, 0.15);\n",
              "    fill: var(--button-hover-fill-color);\n",
              "  }\n",
              "\n",
              "  .colab-df-quickchart-complete:disabled,\n",
              "  .colab-df-quickchart-complete:disabled:hover {\n",
              "    background-color: var(--disabled-bg-color);\n",
              "    fill: var(--disabled-fill-color);\n",
              "    box-shadow: none;\n",
              "  }\n",
              "\n",
              "  .colab-df-spinner {\n",
              "    border: 2px solid var(--fill-color);\n",
              "    border-color: transparent;\n",
              "    border-bottom-color: var(--fill-color);\n",
              "    animation:\n",
              "      spin 1s steps(1) infinite;\n",
              "  }\n",
              "\n",
              "  @keyframes spin {\n",
              "    0% {\n",
              "      border-color: transparent;\n",
              "      border-bottom-color: var(--fill-color);\n",
              "      border-left-color: var(--fill-color);\n",
              "    }\n",
              "    20% {\n",
              "      border-color: transparent;\n",
              "      border-left-color: var(--fill-color);\n",
              "      border-top-color: var(--fill-color);\n",
              "    }\n",
              "    30% {\n",
              "      border-color: transparent;\n",
              "      border-left-color: var(--fill-color);\n",
              "      border-top-color: var(--fill-color);\n",
              "      border-right-color: var(--fill-color);\n",
              "    }\n",
              "    40% {\n",
              "      border-color: transparent;\n",
              "      border-right-color: var(--fill-color);\n",
              "      border-top-color: var(--fill-color);\n",
              "    }\n",
              "    60% {\n",
              "      border-color: transparent;\n",
              "      border-right-color: var(--fill-color);\n",
              "    }\n",
              "    80% {\n",
              "      border-color: transparent;\n",
              "      border-right-color: var(--fill-color);\n",
              "      border-bottom-color: var(--fill-color);\n",
              "    }\n",
              "    90% {\n",
              "      border-color: transparent;\n",
              "      border-bottom-color: var(--fill-color);\n",
              "    }\n",
              "  }\n",
              "</style>\n",
              "\n",
              "  <script>\n",
              "    async function quickchart(key) {\n",
              "      const quickchartButtonEl =\n",
              "        document.querySelector('#' + key + ' button');\n",
              "      quickchartButtonEl.disabled = true;  // To prevent multiple clicks.\n",
              "      quickchartButtonEl.classList.add('colab-df-spinner');\n",
              "      try {\n",
              "        const charts = await google.colab.kernel.invokeFunction(\n",
              "            'suggestCharts', [key], {});\n",
              "      } catch (error) {\n",
              "        console.error('Error during call to suggestCharts:', error);\n",
              "      }\n",
              "      quickchartButtonEl.classList.remove('colab-df-spinner');\n",
              "      quickchartButtonEl.classList.add('colab-df-quickchart-complete');\n",
              "    }\n",
              "    (() => {\n",
              "      let quickchartButtonEl =\n",
              "        document.querySelector('#df-2e161eb8-8a99-4ff1-b7b9-4a1d4f8d2592 button');\n",
              "      quickchartButtonEl.style.display =\n",
              "        google.colab.kernel.accessAllowed ? 'block' : 'none';\n",
              "    })();\n",
              "  </script>\n",
              "</div>\n",
              "\n",
              "    </div>\n",
              "  </div>\n"
            ],
            "text/plain": [
              "              flight       aircraft           from             to  \\\n",
              "count  101813.000000  101813.000000  101813.000000  101813.000000   \n",
              "mean    21176.435426     228.003438     864.734484     878.689048   \n",
              "std     11674.685337     141.332182     534.675213     536.616026   \n",
              "min         0.000000       0.000000       0.000000       0.000000   \n",
              "25%     11242.000000     103.000000     391.000000     400.000000   \n",
              "50%     21977.000000     211.000000     864.000000     896.000000   \n",
              "75%     30550.000000     364.000000    1321.000000    1325.000000   \n",
              "max     42284.000000     460.000000    1856.000000    1858.000000   \n",
              "\n",
              "           from_city        to_city           year          month  \\\n",
              "count  101813.000000  101813.000000  101813.000000  101813.000000   \n",
              "mean      854.930726     862.963983    2023.255213       6.467838   \n",
              "std       496.726716     495.477334       0.435983       3.319132   \n",
              "min         0.000000       0.000000    2023.000000       1.000000   \n",
              "25%       397.000000     410.000000    2023.000000       4.000000   \n",
              "50%       893.000000     900.000000    2023.000000       7.000000   \n",
              "75%      1275.000000    1288.000000    2024.000000       9.000000   \n",
              "max      1745.000000    1745.000000    2024.000000      12.000000   \n",
              "\n",
              "                 day           hour      dayofweek        quarter  \\\n",
              "count  101813.000000  101813.000000  101813.000000  101813.000000   \n",
              "mean       15.895367      14.167238       3.052754       2.494750   \n",
              "std         8.812826       5.977343       1.980540       1.069531   \n",
              "min         1.000000       0.000000       0.000000       1.000000   \n",
              "25%         8.000000      11.000000       1.000000       2.000000   \n",
              "50%        16.000000      15.000000       3.000000       3.000000   \n",
              "75%        23.000000      19.000000       5.000000       3.000000   \n",
              "max        31.000000      23.000000       6.000000       4.000000   \n",
              "\n",
              "       is_year_start    is_year_end  departure_delay  arrival_delay  \n",
              "count  101813.000000  101813.000000    101813.000000  101813.000000  \n",
              "mean        0.002180       0.002259        37.977282      92.969434  \n",
              "std         0.046645       0.047476       238.264789     217.704886  \n",
              "min         0.000000       0.000000     -1435.000000      16.000000  \n",
              "25%         0.000000       0.000000        40.000000      24.000000  \n",
              "50%         0.000000       0.000000        57.000000      39.000000  \n",
              "75%         0.000000       0.000000        87.000000      72.000000  \n",
              "max         1.000000       1.000000      1421.000000    1439.000000  "
            ]
          },
          "execution_count": 40,
          "metadata": {},
          "output_type": "execute_result"
        }
      ],
      "source": [
        "# Check statistical summaries of the dataset\n",
        "df.describe()"
      ]
    },
    {
      "cell_type": "code",
      "execution_count": 41,
      "metadata": {
        "colab": {
          "base_uri": "https://localhost:8080/"
        },
        "id": "0GMURfHqJk8B",
        "outputId": "34bfedc8-f497-431d-a006-48a416de6324"
      },
      "outputs": [
        {
          "data": {
            "text/plain": [
              "flight               int64\n",
              "aircraft             int64\n",
              "from                 int64\n",
              "to                   int64\n",
              "from_city            int64\n",
              "to_city              int64\n",
              "year                 int32\n",
              "month                int32\n",
              "day                  int32\n",
              "hour                 int32\n",
              "dayofweek            int32\n",
              "quarter              int32\n",
              "is_year_start        int64\n",
              "is_year_end          int64\n",
              "departure_delay    float64\n",
              "arrival_delay      float64\n",
              "dtype: object"
            ]
          },
          "execution_count": 41,
          "metadata": {},
          "output_type": "execute_result"
        }
      ],
      "source": [
        "df.dtypes"
      ]
    },
    {
      "cell_type": "markdown",
      "metadata": {
        "id": "IMGA5lmWJ0tZ"
      },
      "source": [
        "<a name = \"Target\"></a>\n",
        "## 6. Target variable distribution"
      ]
    },
    {
      "cell_type": "code",
      "execution_count": 42,
      "metadata": {
        "colab": {
          "base_uri": "https://localhost:8080/",
          "height": 523
        },
        "id": "B1gvb3xnKTX0",
        "outputId": "5e1948a4-a087-43c8-fb45-5f8bc514f850"
      },
      "outputs": [
        {
          "data": {
            "text/plain": [
              "<seaborn.axisgrid.FacetGrid at 0x7cec1d652620>"
            ]
          },
          "execution_count": 42,
          "metadata": {},
          "output_type": "execute_result"
        },
        {
          "data": {
            "image/png": "[encoded data removed]",
            "text/plain": [
              "<Figure size 500x500 with 1 Axes>"
            ]
          },
          "metadata": {},
          "output_type": "display_data"
        }
      ],
      "source": [
        "sns.displot(df, x=\"arrival_delay\", kind=\"kde\")"
      ]
    },
    {
      "cell_type": "markdown",
      "metadata": {
        "id": "83dM5p7fMLSe"
      },
      "source": [
        "<a name = \"Model\"></a>\n",
        "## 9. Model training"
      ]
    },
    {
      "cell_type": "code",
      "execution_count": 43,
      "metadata": {
        "id": "z9mKRgerSAsX"
      },
      "outputs": [],
      "source": [
        "X = df.loc[:, df.columns != \"arrival_delay\"]\n",
        "y = np.array(df.loc[:, df.columns == \"arrival_delay\"][\"arrival_delay\"])"
      ]
    },
    {
      "cell_type": "code",
      "execution_count": 44,
      "metadata": {
        "colab": {
          "base_uri": "https://localhost:8080/"
        },
        "id": "Iremnqq1SAqF",
        "outputId": "bd1cacb6-3bd0-45a4-be61-a125d3219a4a"
      },
      "outputs": [
        {
          "name": "stdout",
          "output_type": "stream",
          "text": [
            "\n",
            "Dataset shape: (101813, 16)\n",
            "features_train shape: (81450, 15) | features_test shape: (20363, 15)\n",
            "labels_train shape: (81450,) | labels_test shape: (20363,)\n"
          ]
        }
      ],
      "source": [
        "print(f\"\\nDataset shape: {df.shape}\")\n",
        "X_train, X_test, y_train, y_test = train_test_split(X, y, test_size=0.20, random_state=42)\n",
        "print(f\"features_train shape: {X_train.shape} | features_test shape: {X_test.shape}\")\n",
        "print(f\"labels_train shape: {y_train.shape} | labels_test shape: {y_test.shape}\")"
      ]
    },
    {
      "cell_type": "code",
      "execution_count": 45,
      "metadata": {
        "id": "1UIdRWH5XhXF"
      },
      "outputs": [],
      "source": [
        "def print_metrics(labels_test, model_pred, regressor_name):\n",
        "\n",
        "    mse = mean_squared_error(labels_test, model_pred)\n",
        "    rmse = np.sqrt(mse)\n",
        "    mae = mean_absolute_error(labels_test, model_pred)\n",
        "    r2 = r2_score(labels_test, model_pred)\n",
        "\n",
        "    print(f\"MSE      : {mse}\", end=\"\\n\\n\")\n",
        "    print(f\"RMSE     : {rmse}\", end=\"\\n\\n\")\n",
        "    print(f\"MAE      : {mae}\", end=\"\\n\\n\")\n",
        "    print(f\"R2 Score : {r2}\", end=\"\\n\\n\")"
      ]
    },
    {
      "cell_type": "markdown",
      "metadata": {
        "id": "4aW3p9ocYIkb"
      },
      "source": [
        "## Linear Regression"
      ]
    },
    {
      "cell_type": "code",
      "execution_count": 46,
      "metadata": {
        "colab": {
          "base_uri": "https://localhost:8080/",
          "height": 74
        },
        "id": "1xOjKjxEXhUs",
        "outputId": "0fb005f5-b6ab-4fb2-d78e-d2b515a93f84"
      },
      "outputs": [
        {
          "data": {
            "text/html": [
              "<style>#sk-container-id-1 {color: black;background-color: white;}#sk-container-id-1 pre{padding: 0;}#sk-container-id-1 div.sk-toggleable {background-color: white;}#sk-container-id-1 label.sk-toggleable__label {cursor: pointer;display: block;width: 100%;margin-bottom: 0;padding: 0.3em;box-sizing: border-box;text-align: center;}#sk-container-id-1 label.sk-toggleable__label-arrow:before {content: \"▸\";float: left;margin-right: 0.25em;color: #696969;}#sk-container-id-1 label.sk-toggleable__label-arrow:hover:before {color: black;}#sk-container-id-1 div.sk-estimator:hover label.sk-toggleable__label-arrow:before {color: black;}#sk-container-id-1 div.sk-toggleable__content {max-height: 0;max-width: 0;overflow: hidden;text-align: left;background-color: #f0f8ff;}#sk-container-id-1 div.sk-toggleable__content pre {margin: 0.2em;color: black;border-radius: 0.25em;background-color: #f0f8ff;}#sk-container-id-1 input.sk-toggleable__control:checked~div.sk-toggleable__content {max-height: 200px;max-width: 100%;overflow: auto;}#sk-container-id-1 input.sk-toggleable__control:checked~label.sk-toggleable__label-arrow:before {content: \"▾\";}#sk-container-id-1 div.sk-estimator input.sk-toggleable__control:checked~label.sk-toggleable__label {background-color: #d4ebff;}#sk-container-id-1 div.sk-label input.sk-toggleable__control:checked~label.sk-toggleable__label {background-color: #d4ebff;}#sk-container-id-1 input.sk-hidden--visually {border: 0;clip: rect(1px 1px 1px 1px);clip: rect(1px, 1px, 1px, 1px);height: 1px;margin: -1px;overflow: hidden;padding: 0;position: absolute;width: 1px;}#sk-container-id-1 div.sk-estimator {font-family: monospace;background-color: #f0f8ff;border: 1px dotted black;border-radius: 0.25em;box-sizing: border-box;margin-bottom: 0.5em;}#sk-container-id-1 div.sk-estimator:hover {background-color: #d4ebff;}#sk-container-id-1 div.sk-parallel-item::after {content: \"\";width: 100%;border-bottom: 1px solid gray;flex-grow: 1;}#sk-container-id-1 div.sk-label:hover label.sk-toggleable__label {background-color: #d4ebff;}#sk-container-id-1 div.sk-serial::before {content: \"\";position: absolute;border-left: 1px solid gray;box-sizing: border-box;top: 0;bottom: 0;left: 50%;z-index: 0;}#sk-container-id-1 div.sk-serial {display: flex;flex-direction: column;align-items: center;background-color: white;padding-right: 0.2em;padding-left: 0.2em;position: relative;}#sk-container-id-1 div.sk-item {position: relative;z-index: 1;}#sk-container-id-1 div.sk-parallel {display: flex;align-items: stretch;justify-content: center;background-color: white;position: relative;}#sk-container-id-1 div.sk-item::before, #sk-container-id-1 div.sk-parallel-item::before {content: \"\";position: absolute;border-left: 1px solid gray;box-sizing: border-box;top: 0;bottom: 0;left: 50%;z-index: -1;}#sk-container-id-1 div.sk-parallel-item {display: flex;flex-direction: column;z-index: 1;position: relative;background-color: white;}#sk-container-id-1 div.sk-parallel-item:first-child::after {align-self: flex-end;width: 50%;}#sk-container-id-1 div.sk-parallel-item:last-child::after {align-self: flex-start;width: 50%;}#sk-container-id-1 div.sk-parallel-item:only-child::after {width: 0;}#sk-container-id-1 div.sk-dashed-wrapped {border: 1px dashed gray;margin: 0 0.4em 0.5em 0.4em;box-sizing: border-box;padding-bottom: 0.4em;background-color: white;}#sk-container-id-1 div.sk-label label {font-family: monospace;font-weight: bold;display: inline-block;line-height: 1.2em;}#sk-container-id-1 div.sk-label-container {text-align: center;}#sk-container-id-1 div.sk-container {/* jupyter's `normalize.less` sets `[hidden] { display: none; }` but bootstrap.min.css set `[hidden] { display: none !important; }` so we also need the `!important` here to be able to override the default hidden behavior on the sphinx rendered scikit-learn.org. See: https://github.com/scikit-learn/scikit-learn/issues/21755 */display: inline-block !important;position: relative;}#sk-container-id-1 div.sk-text-repr-fallback {display: none;}</style><div id=\"sk-container-id-1\" class=\"sk-top-container\"><div class=\"sk-text-repr-fallback\"><pre>LinearRegression(n_jobs=-1)</pre><b>In a Jupyter environment, please rerun this cell to show the HTML representation or trust the notebook. <br />On GitHub, the HTML representation is unable to render, please try loading this page with nbviewer.org.</b></div><div class=\"sk-container\" hidden><div class=\"sk-item\"><div class=\"sk-estimator sk-toggleable\"><input class=\"sk-toggleable__control sk-hidden--visually\" id=\"sk-estimator-id-1\" type=\"checkbox\" checked><label for=\"sk-estimator-id-1\" class=\"sk-toggleable__label sk-toggleable__label-arrow\">LinearRegression</label><div class=\"sk-toggleable__content\"><pre>LinearRegression(n_jobs=-1)</pre></div></div></div></div></div>"
            ],
            "text/plain": [
              "LinearRegression(n_jobs=-1)"
            ]
          },
          "execution_count": 46,
          "metadata": {},
          "output_type": "execute_result"
        }
      ],
      "source": [
        "model = LinearRegression(n_jobs=-1)\n",
        "model.fit(X_train, y_train)"
      ]
    },
    {
      "cell_type": "code",
      "execution_count": 47,
      "metadata": {
        "colab": {
          "base_uri": "https://localhost:8080/"
        },
        "id": "UUKCcjunXhSm",
        "outputId": "a3322930-7bf4-41b4-a1d9-b900123990bc"
      },
      "outputs": [
        {
          "name": "stdout",
          "output_type": "stream",
          "text": [
            "MSE      : 40074.99490286875\n",
            "\n",
            "RMSE     : 200.18739946077713\n",
            "\n",
            "MAE      : 102.20587276109111\n",
            "\n",
            "R2 Score : 0.18094298658104235\n",
            "\n"
          ]
        }
      ],
      "source": [
        "model_pred = model.predict(X_test)\n",
        "print_metrics(y_test, model_pred, \"LinearRegression\")"
      ]
    },
    {
      "cell_type": "markdown",
      "metadata": {
        "id": "fPAYbEilb5kV"
      },
      "source": [
        "## Decision Tree Regressor"
      ]
    },
    {
      "cell_type": "code",
      "execution_count": 48,
      "metadata": {
        "colab": {
          "base_uri": "https://localhost:8080/",
          "height": 74
        },
        "id": "kz8UgyY5XhQJ",
        "outputId": "23e6b72e-9198-4697-c38e-a47b9a7a54c6"
      },
      "outputs": [
        {
          "data": {
            "text/html": [
              "<style>#sk-container-id-2 {color: black;background-color: white;}#sk-container-id-2 pre{padding: 0;}#sk-container-id-2 div.sk-toggleable {background-color: white;}#sk-container-id-2 label.sk-toggleable__label {cursor: pointer;display: block;width: 100%;margin-bottom: 0;padding: 0.3em;box-sizing: border-box;text-align: center;}#sk-container-id-2 label.sk-toggleable__label-arrow:before {content: \"▸\";float: left;margin-right: 0.25em;color: #696969;}#sk-container-id-2 label.sk-toggleable__label-arrow:hover:before {color: black;}#sk-container-id-2 div.sk-estimator:hover label.sk-toggleable__label-arrow:before {color: black;}#sk-container-id-2 div.sk-toggleable__content {max-height: 0;max-width: 0;overflow: hidden;text-align: left;background-color: #f0f8ff;}#sk-container-id-2 div.sk-toggleable__content pre {margin: 0.2em;color: black;border-radius: 0.25em;background-color: #f0f8ff;}#sk-container-id-2 input.sk-toggleable__control:checked~div.sk-toggleable__content {max-height: 200px;max-width: 100%;overflow: auto;}#sk-container-id-2 input.sk-toggleable__control:checked~label.sk-toggleable__label-arrow:before {content: \"▾\";}#sk-container-id-2 div.sk-estimator input.sk-toggleable__control:checked~label.sk-toggleable__label {background-color: #d4ebff;}#sk-container-id-2 div.sk-label input.sk-toggleable__control:checked~label.sk-toggleable__label {background-color: #d4ebff;}#sk-container-id-2 input.sk-hidden--visually {border: 0;clip: rect(1px 1px 1px 1px);clip: rect(1px, 1px, 1px, 1px);height: 1px;margin: -1px;overflow: hidden;padding: 0;position: absolute;width: 1px;}#sk-container-id-2 div.sk-estimator {font-family: monospace;background-color: #f0f8ff;border: 1px dotted black;border-radius: 0.25em;box-sizing: border-box;margin-bottom: 0.5em;}#sk-container-id-2 div.sk-estimator:hover {background-color: #d4ebff;}#sk-container-id-2 div.sk-parallel-item::after {content: \"\";width: 100%;border-bottom: 1px solid gray;flex-grow: 1;}#sk-container-id-2 div.sk-label:hover label.sk-toggleable__label {background-color: #d4ebff;}#sk-container-id-2 div.sk-serial::before {content: \"\";position: absolute;border-left: 1px solid gray;box-sizing: border-box;top: 0;bottom: 0;left: 50%;z-index: 0;}#sk-container-id-2 div.sk-serial {display: flex;flex-direction: column;align-items: center;background-color: white;padding-right: 0.2em;padding-left: 0.2em;position: relative;}#sk-container-id-2 div.sk-item {position: relative;z-index: 1;}#sk-container-id-2 div.sk-parallel {display: flex;align-items: stretch;justify-content: center;background-color: white;position: relative;}#sk-container-id-2 div.sk-item::before, #sk-container-id-2 div.sk-parallel-item::before {content: \"\";position: absolute;border-left: 1px solid gray;box-sizing: border-box;top: 0;bottom: 0;left: 50%;z-index: -1;}#sk-container-id-2 div.sk-parallel-item {display: flex;flex-direction: column;z-index: 1;position: relative;background-color: white;}#sk-container-id-2 div.sk-parallel-item:first-child::after {align-self: flex-end;width: 50%;}#sk-container-id-2 div.sk-parallel-item:last-child::after {align-self: flex-start;width: 50%;}#sk-container-id-2 div.sk-parallel-item:only-child::after {width: 0;}#sk-container-id-2 div.sk-dashed-wrapped {border: 1px dashed gray;margin: 0 0.4em 0.5em 0.4em;box-sizing: border-box;padding-bottom: 0.4em;background-color: white;}#sk-container-id-2 div.sk-label label {font-family: monospace;font-weight: bold;display: inline-block;line-height: 1.2em;}#sk-container-id-2 div.sk-label-container {text-align: center;}#sk-container-id-2 div.sk-container {/* jupyter's `normalize.less` sets `[hidden] { display: none; }` but bootstrap.min.css set `[hidden] { display: none !important; }` so we also need the `!important` here to be able to override the default hidden behavior on the sphinx rendered scikit-learn.org. See: https://github.com/scikit-learn/scikit-learn/issues/21755 */display: inline-block !important;position: relative;}#sk-container-id-2 div.sk-text-repr-fallback {display: none;}</style><div id=\"sk-container-id-2\" class=\"sk-top-container\"><div class=\"sk-text-repr-fallback\"><pre>DecisionTreeRegressor()</pre><b>In a Jupyter environment, please rerun this cell to show the HTML representation or trust the notebook. <br />On GitHub, the HTML representation is unable to render, please try loading this page with nbviewer.org.</b></div><div class=\"sk-container\" hidden><div class=\"sk-item\"><div class=\"sk-estimator sk-toggleable\"><input class=\"sk-toggleable__control sk-hidden--visually\" id=\"sk-estimator-id-2\" type=\"checkbox\" checked><label for=\"sk-estimator-id-2\" class=\"sk-toggleable__label sk-toggleable__label-arrow\">DecisionTreeRegressor</label><div class=\"sk-toggleable__content\"><pre>DecisionTreeRegressor()</pre></div></div></div></div></div>"
            ],
            "text/plain": [
              "DecisionTreeRegressor()"
            ]
          },
          "execution_count": 48,
          "metadata": {},
          "output_type": "execute_result"
        }
      ],
      "source": [
        "model = DecisionTreeRegressor()\n",
        "model.fit(X_train, y_train)"
      ]
    },
    {
      "cell_type": "code",
      "execution_count": 49,
      "metadata": {
        "colab": {
          "base_uri": "https://localhost:8080/"
        },
        "id": "kQgfA8_Mb6_L",
        "outputId": "5366d0ef-b69b-4518-febf-674181cd46de"
      },
      "outputs": [
        {
          "name": "stdout",
          "output_type": "stream",
          "text": [
            "MSE      : 9000.539728920101\n",
            "\n",
            "RMSE     : 94.8711743835824\n",
            "\n",
            "MAE      : 18.541128517409025\n",
            "\n",
            "R2 Score : 0.8160460105510767\n",
            "\n"
          ]
        }
      ],
      "source": [
        "model_pred = model.predict(X_test)\n",
        "print_metrics(y_test, model_pred, \"DecisionTreeRegressor\")"
      ]
    },
    {
      "cell_type": "markdown",
      "metadata": {
        "id": "KxxrE6ICcMaS"
      },
      "source": [
        "## XGBoost"
      ]
    },
    {
      "cell_type": "code",
      "execution_count": 50,
      "metadata": {
        "colab": {
          "base_uri": "https://localhost:8080/",
          "height": 74
        },
        "id": "JMJziCngb7CP",
        "outputId": "265ed4de-6aeb-477e-d4ec-8cb4585fb966"
      },
      "outputs": [
        {
          "data": {
            "text/html": [
              "<style>#sk-container-id-3 {color: black;background-color: white;}#sk-container-id-3 pre{padding: 0;}#sk-container-id-3 div.sk-toggleable {background-color: white;}#sk-container-id-3 label.sk-toggleable__label {cursor: pointer;display: block;width: 100%;margin-bottom: 0;padding: 0.3em;box-sizing: border-box;text-align: center;}#sk-container-id-3 label.sk-toggleable__label-arrow:before {content: \"▸\";float: left;margin-right: 0.25em;color: #696969;}#sk-container-id-3 label.sk-toggleable__label-arrow:hover:before {color: black;}#sk-container-id-3 div.sk-estimator:hover label.sk-toggleable__label-arrow:before {color: black;}#sk-container-id-3 div.sk-toggleable__content {max-height: 0;max-width: 0;overflow: hidden;text-align: left;background-color: #f0f8ff;}#sk-container-id-3 div.sk-toggleable__content pre {margin: 0.2em;color: black;border-radius: 0.25em;background-color: #f0f8ff;}#sk-container-id-3 input.sk-toggleable__control:checked~div.sk-toggleable__content {max-height: 200px;max-width: 100%;overflow: auto;}#sk-container-id-3 input.sk-toggleable__control:checked~label.sk-toggleable__label-arrow:before {content: \"▾\";}#sk-container-id-3 div.sk-estimator input.sk-toggleable__control:checked~label.sk-toggleable__label {background-color: #d4ebff;}#sk-container-id-3 div.sk-label input.sk-toggleable__control:checked~label.sk-toggleable__label {background-color: #d4ebff;}#sk-container-id-3 input.sk-hidden--visually {border: 0;clip: rect(1px 1px 1px 1px);clip: rect(1px, 1px, 1px, 1px);height: 1px;margin: -1px;overflow: hidden;padding: 0;position: absolute;width: 1px;}#sk-container-id-3 div.sk-estimator {font-family: monospace;background-color: #f0f8ff;border: 1px dotted black;border-radius: 0.25em;box-sizing: border-box;margin-bottom: 0.5em;}#sk-container-id-3 div.sk-estimator:hover {background-color: #d4ebff;}#sk-container-id-3 div.sk-parallel-item::after {content: \"\";width: 100%;border-bottom: 1px solid gray;flex-grow: 1;}#sk-container-id-3 div.sk-label:hover label.sk-toggleable__label {background-color: #d4ebff;}#sk-container-id-3 div.sk-serial::before {content: \"\";position: absolute;border-left: 1px solid gray;box-sizing: border-box;top: 0;bottom: 0;left: 50%;z-index: 0;}#sk-container-id-3 div.sk-serial {display: flex;flex-direction: column;align-items: center;background-color: white;padding-right: 0.2em;padding-left: 0.2em;position: relative;}#sk-container-id-3 div.sk-item {position: relative;z-index: 1;}#sk-container-id-3 div.sk-parallel {display: flex;align-items: stretch;justify-content: center;background-color: white;position: relative;}#sk-container-id-3 div.sk-item::before, #sk-container-id-3 div.sk-parallel-item::before {content: \"\";position: absolute;border-left: 1px solid gray;box-sizing: border-box;top: 0;bottom: 0;left: 50%;z-index: -1;}#sk-container-id-3 div.sk-parallel-item {display: flex;flex-direction: column;z-index: 1;position: relative;background-color: white;}#sk-container-id-3 div.sk-parallel-item:first-child::after {align-self: flex-end;width: 50%;}#sk-container-id-3 div.sk-parallel-item:last-child::after {align-self: flex-start;width: 50%;}#sk-container-id-3 div.sk-parallel-item:only-child::after {width: 0;}#sk-container-id-3 div.sk-dashed-wrapped {border: 1px dashed gray;margin: 0 0.4em 0.5em 0.4em;box-sizing: border-box;padding-bottom: 0.4em;background-color: white;}#sk-container-id-3 div.sk-label label {font-family: monospace;font-weight: bold;display: inline-block;line-height: 1.2em;}#sk-container-id-3 div.sk-label-container {text-align: center;}#sk-container-id-3 div.sk-container {/* jupyter's `normalize.less` sets `[hidden] { display: none; }` but bootstrap.min.css set `[hidden] { display: none !important; }` so we also need the `!important` here to be able to override the default hidden behavior on the sphinx rendered scikit-learn.org. See: https://github.com/scikit-learn/scikit-learn/issues/21755 */display: inline-block !important;position: relative;}#sk-container-id-3 div.sk-text-repr-fallback {display: none;}</style><div id=\"sk-container-id-3\" class=\"sk-top-container\"><div class=\"sk-text-repr-fallback\"><pre>GradientBoostingRegressor()</pre><b>In a Jupyter environment, please rerun this cell to show the HTML representation or trust the notebook. <br />On GitHub, the HTML representation is unable to render, please try loading this page with nbviewer.org.</b></div><div class=\"sk-container\" hidden><div class=\"sk-item\"><div class=\"sk-estimator sk-toggleable\"><input class=\"sk-toggleable__control sk-hidden--visually\" id=\"sk-estimator-id-3\" type=\"checkbox\" checked><label for=\"sk-estimator-id-3\" class=\"sk-toggleable__label sk-toggleable__label-arrow\">GradientBoostingRegressor</label><div class=\"sk-toggleable__content\"><pre>GradientBoostingRegressor()</pre></div></div></div></div></div>"
            ],
            "text/plain": [
              "GradientBoostingRegressor()"
            ]
          },
          "execution_count": 50,
          "metadata": {},
          "output_type": "execute_result"
        }
      ],
      "source": [
        "model = GradientBoostingRegressor()\n",
        "model.fit(X_train, y_train)"
      ]
    },
    {
      "cell_type": "code",
      "execution_count": 51,
      "metadata": {
        "colab": {
          "base_uri": "https://localhost:8080/"
        },
        "id": "8j3DVKC3b7Ew",
        "outputId": "69a339e2-d66b-4afa-e5ca-bc4ad210c66e"
      },
      "outputs": [
        {
          "name": "stdout",
          "output_type": "stream",
          "text": [
            "MSE      : 4675.429655997681\n",
            "\n",
            "RMSE     : 68.3771135395293\n",
            "\n",
            "MAE      : 16.840650544894448\n",
            "\n",
            "R2 Score : 0.9044430708032914\n",
            "\n"
          ]
        }
      ],
      "source": [
        "model_pred = model.predict(X_test)\n",
        "print_metrics(y_test, model_pred, \"GradientBoostingRegressor\")"
      ]
    },
    {
      "cell_type": "markdown",
      "metadata": {
        "id": "6-5IJeUlcXfp"
      },
      "source": [
        "## Random Forest"
      ]
    },
    {
      "cell_type": "code",
      "execution_count": 52,
      "metadata": {
        "colab": {
          "base_uri": "https://localhost:8080/",
          "height": 74
        },
        "id": "d6g7uAaXcXBJ",
        "outputId": "ba6e5e0d-8aac-4777-a219-93f697dc891a"
      },
      "outputs": [
        {
          "data": {
            "text/html": [
              "<style>#sk-container-id-4 {color: black;background-color: white;}#sk-container-id-4 pre{padding: 0;}#sk-container-id-4 div.sk-toggleable {background-color: white;}#sk-container-id-4 label.sk-toggleable__label {cursor: pointer;display: block;width: 100%;margin-bottom: 0;padding: 0.3em;box-sizing: border-box;text-align: center;}#sk-container-id-4 label.sk-toggleable__label-arrow:before {content: \"▸\";float: left;margin-right: 0.25em;color: #696969;}#sk-container-id-4 label.sk-toggleable__label-arrow:hover:before {color: black;}#sk-container-id-4 div.sk-estimator:hover label.sk-toggleable__label-arrow:before {color: black;}#sk-container-id-4 div.sk-toggleable__content {max-height: 0;max-width: 0;overflow: hidden;text-align: left;background-color: #f0f8ff;}#sk-container-id-4 div.sk-toggleable__content pre {margin: 0.2em;color: black;border-radius: 0.25em;background-color: #f0f8ff;}#sk-container-id-4 input.sk-toggleable__control:checked~div.sk-toggleable__content {max-height: 200px;max-width: 100%;overflow: auto;}#sk-container-id-4 input.sk-toggleable__control:checked~label.sk-toggleable__label-arrow:before {content: \"▾\";}#sk-container-id-4 div.sk-estimator input.sk-toggleable__control:checked~label.sk-toggleable__label {background-color: #d4ebff;}#sk-container-id-4 div.sk-label input.sk-toggleable__control:checked~label.sk-toggleable__label {background-color: #d4ebff;}#sk-container-id-4 input.sk-hidden--visually {border: 0;clip: rect(1px 1px 1px 1px);clip: rect(1px, 1px, 1px, 1px);height: 1px;margin: -1px;overflow: hidden;padding: 0;position: absolute;width: 1px;}#sk-container-id-4 div.sk-estimator {font-family: monospace;background-color: #f0f8ff;border: 1px dotted black;border-radius: 0.25em;box-sizing: border-box;margin-bottom: 0.5em;}#sk-container-id-4 div.sk-estimator:hover {background-color: #d4ebff;}#sk-container-id-4 div.sk-parallel-item::after {content: \"\";width: 100%;border-bottom: 1px solid gray;flex-grow: 1;}#sk-container-id-4 div.sk-label:hover label.sk-toggleable__label {background-color: #d4ebff;}#sk-container-id-4 div.sk-serial::before {content: \"\";position: absolute;border-left: 1px solid gray;box-sizing: border-box;top: 0;bottom: 0;left: 50%;z-index: 0;}#sk-container-id-4 div.sk-serial {display: flex;flex-direction: column;align-items: center;background-color: white;padding-right: 0.2em;padding-left: 0.2em;position: relative;}#sk-container-id-4 div.sk-item {position: relative;z-index: 1;}#sk-container-id-4 div.sk-parallel {display: flex;align-items: stretch;justify-content: center;background-color: white;position: relative;}#sk-container-id-4 div.sk-item::before, #sk-container-id-4 div.sk-parallel-item::before {content: \"\";position: absolute;border-left: 1px solid gray;box-sizing: border-box;top: 0;bottom: 0;left: 50%;z-index: -1;}#sk-container-id-4 div.sk-parallel-item {display: flex;flex-direction: column;z-index: 1;position: relative;background-color: white;}#sk-container-id-4 div.sk-parallel-item:first-child::after {align-self: flex-end;width: 50%;}#sk-container-id-4 div.sk-parallel-item:last-child::after {align-self: flex-start;width: 50%;}#sk-container-id-4 div.sk-parallel-item:only-child::after {width: 0;}#sk-container-id-4 div.sk-dashed-wrapped {border: 1px dashed gray;margin: 0 0.4em 0.5em 0.4em;box-sizing: border-box;padding-bottom: 0.4em;background-color: white;}#sk-container-id-4 div.sk-label label {font-family: monospace;font-weight: bold;display: inline-block;line-height: 1.2em;}#sk-container-id-4 div.sk-label-container {text-align: center;}#sk-container-id-4 div.sk-container {/* jupyter's `normalize.less` sets `[hidden] { display: none; }` but bootstrap.min.css set `[hidden] { display: none !important; }` so we also need the `!important` here to be able to override the default hidden behavior on the sphinx rendered scikit-learn.org. See: https://github.com/scikit-learn/scikit-learn/issues/21755 */display: inline-block !important;position: relative;}#sk-container-id-4 div.sk-text-repr-fallback {display: none;}</style><div id=\"sk-container-id-4\" class=\"sk-top-container\"><div class=\"sk-text-repr-fallback\"><pre>RandomForestRegressor()</pre><b>In a Jupyter environment, please rerun this cell to show the HTML representation or trust the notebook. <br />On GitHub, the HTML representation is unable to render, please try loading this page with nbviewer.org.</b></div><div class=\"sk-container\" hidden><div class=\"sk-item\"><div class=\"sk-estimator sk-toggleable\"><input class=\"sk-toggleable__control sk-hidden--visually\" id=\"sk-estimator-id-4\" type=\"checkbox\" checked><label for=\"sk-estimator-id-4\" class=\"sk-toggleable__label sk-toggleable__label-arrow\">RandomForestRegressor</label><div class=\"sk-toggleable__content\"><pre>RandomForestRegressor()</pre></div></div></div></div></div>"
            ],
            "text/plain": [
              "RandomForestRegressor()"
            ]
          },
          "execution_count": 52,
          "metadata": {},
          "output_type": "execute_result"
        }
      ],
      "source": [
        "model = RandomForestRegressor()\n",
        "model.fit(X_train, y_train)"
      ]
    },
    {
      "cell_type": "code",
      "execution_count": 53,
      "metadata": {
        "colab": {
          "base_uri": "https://localhost:8080/"
        },
        "id": "14IMbS_EcW6c",
        "outputId": "a835063a-2630-49c3-c275-ce4e538c26e1"
      },
      "outputs": [
        {
          "name": "stdout",
          "output_type": "stream",
          "text": [
            "MSE      : 3954.4730805556205\n",
            "\n",
            "RMSE     : 62.88460129917038\n",
            "\n",
            "MAE      : 14.227508806822833\n",
            "\n",
            "R2 Score : 0.9191780580669845\n",
            "\n"
          ]
        }
      ],
      "source": [
        "model_pred = model.predict(X_test)\n",
        "print_metrics(y_test, model_pred, \"RandomForestRegressor\")"
      ]
    },
    {
      "cell_type": "markdown",
      "metadata": {
        "id": "9FI6q9aJRErI"
      },
      "source": [
        "## To Do\n",
        "- Fine tuning\n",
        "- Model validation\n"
      ]
    }
  ],
  "metadata": {
    "colab": {
      "provenance": []
    },
    "kernelspec": {
      "display_name": "Python 3",
      "name": "python3"
    },
    "language_info": {
      "name": "python"
    }
  },
  "nbformat": 4,
  "nbformat_minor": 0
}
